{
 "cells": [
  {
   "cell_type": "code",
   "execution_count": 4,
   "id": "616dad97",
   "metadata": {},
   "outputs": [
    {
     "name": "stdout",
     "output_type": "stream",
     "text": [
      "Qual o valor da corrida? 75\n",
      "Não é recomendável pegar a corrida, pegue o ônibus\n"
     ]
    }
   ],
   "source": [
    "valor_passagem = 4.3\n",
    "valor_corrida = float(input(\"Qual o valor da corrida? \"))\n",
    "\n",
    "if (valor_corrida <= valor_passagem * 5):\n",
    "    print(\"Pague a corrida\")\n",
    "else:\n",
    "    print(\"Não é recomendável pegar a corrida, pegue o ônibus\")"
   ]
  },
  {
   "cell_type": "code",
   "execution_count": 17,
   "id": "c9b9b98b",
   "metadata": {},
   "outputs": [
    {
     "name": "stdout",
     "output_type": "stream",
     "text": [
      "Qual o valor da corrida? 35\n",
      "Não é recomendável pegar a corrida, pegue o ônibus\n"
     ]
    }
   ],
   "source": [
    "valor_passagem = 4.3\n",
    "valor_corrida = float(input(\"Qual o valor da corrida? \"))\n",
    "\n",
    "if (valor_corrida <= valor_passagem * 5):\n",
    "    print(\"Pague a corrida\")\n",
    "elif (valor_passagem*5<valor_corrida<=valor_passagem*6):\n",
    "    print(\"Espera um pouco, o valor pode abaixar\")\n",
    "else:\n",
    "    print(\"Não é recomendável pegar a corrida, pegue o ônibus\")"
   ]
  }
 ],
 "metadata": {
  "kernelspec": {
   "display_name": "Python 3 (ipykernel)",
   "language": "python",
   "name": "python3"
  },
  "language_info": {
   "codemirror_mode": {
    "name": "ipython",
    "version": 3
   },
   "file_extension": ".py",
   "mimetype": "text/x-python",
   "name": "python",
   "nbconvert_exporter": "python",
   "pygments_lexer": "ipython3",
   "version": "3.10.5"
  }
 },
 "nbformat": 4,
 "nbformat_minor": 5
}
