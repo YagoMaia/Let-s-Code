{
 "cells": [
  {
   "cell_type": "markdown",
   "id": "5fe4680a",
   "metadata": {},
   "source": [
    "# Modulo 1"
   ]
  },
  {
   "cell_type": "markdown",
   "id": "86c68978",
   "metadata": {},
   "source": [
    "## Ex 001\n",
    "Faça um programa que peça um valor monetário e diminua-o em 15%. Seu\n",
    "programa deve imprimir a mensagem “O novo valor é [valor]”.\n"
   ]
  },
  {
   "cell_type": "code",
   "execution_count": 1,
   "id": "dad2001e",
   "metadata": {
    "scrolled": true
   },
   "outputs": [
    {
     "name": "stdout",
     "output_type": "stream",
     "text": [
      "Digite um valor monetário: 1000\n",
      "O valor digitado ,1000, recebeu uma redução de 15% e foi reajustado para 850.0\n"
     ]
    }
   ],
   "source": [
    "valor = int(input(\"Digite um valor monetário: \"))\n",
    "novo_valor = 0.85*valor\n",
    "print(f\"O valor digitado ,{valor}, recebeu uma redução de 15% e foi reajustado para {novo_valor}\")"
   ]
  },
  {
   "cell_type": "markdown",
   "id": "a96ab3cc",
   "metadata": {},
   "source": [
    "## Ex 002\n",
    "Faça um programa que leia a validade das informações:\n",
    "\n",
    "- a. Idade: entre 0 e 150;\n",
    "- b. Salário: maior que 0;\n",
    "- c. Sexo: M, F ou Outro;\n",
    "\n",
    "O programa deve imprimir uma mensagem de erro para cada informação inválida.\n"
   ]
  },
  {
   "cell_type": "code",
   "execution_count": 3,
   "id": "9b353c59",
   "metadata": {},
   "outputs": [
    {
     "name": "stdout",
     "output_type": "stream",
     "text": [
      "Digite sua idade: 200\n",
      "Idade Inválida, Por favor digite uma idade consistente!\n",
      "Digite sua idade: 20\n",
      "Digite o valor do seu salário: 0\n",
      "Salário inválido, Por favor digite um salário válido\n",
      "Digite o valor do seu salário: -4\n",
      "Salário inválido, Por favor digite um salário válido\n",
      "Digite o valor do seu salário: 5000\n",
      "Digite seu sexo: [M, F, Outro]Gabriel\n",
      "Sexo inválido, por favor digite um sexo válido\n",
      "Digite seu sexo: [M, F, Outro]Jonas\n",
      "Sexo inválido, por favor digite um sexo válido\n",
      "Digite seu sexo: [M, F, Outro]masculino\n",
      "Você tem 20 anos, com um salário de 5000.0 e é do sexo M\n"
     ]
    }
   ],
   "source": [
    "idade = int(input(\"Digite sua idade: \"))\n",
    "while idade >= 150 or 0 >= idade: \n",
    "    print(\"Idade Inválida, Por favor digite uma idade consistente!\")\n",
    "    idade = int(input(\"Digite sua idade: \"))\n",
    "salario = float(input(\"Digite o valor do seu salário: \"))\n",
    "while salario <= 0:\n",
    "    print(\"Salário inválido, Por favor digite um salário válido\")\n",
    "    salario = float(input(\"Digite o valor do seu salário: \"))\n",
    "sexo = input(\"Digite seu sexo: [M, F, Outro]\").strip().upper()[0]\n",
    "while (sexo != \"M\") and (sexo != \"F\") and (sexo != \"O\"):\n",
    "    print(\"Sexo inválido, por favor digite um sexo válido\")\n",
    "    sexo = input(\"Digite seu sexo: [M, F, Outro]\").strip().upper()[0]\n",
    "print(f\"Você tem {idade} anos, com um salário de {salario} e é do sexo {sexo}\")"
   ]
  }
 ],
 "metadata": {
  "kernelspec": {
   "display_name": "Python 3 (ipykernel)",
   "language": "python",
   "name": "python3"
  },
  "language_info": {
   "codemirror_mode": {
    "name": "ipython",
    "version": 3
   },
   "file_extension": ".py",
   "mimetype": "text/x-python",
   "name": "python",
   "nbconvert_exporter": "python",
   "pygments_lexer": "ipython3",
   "version": "3.10.5"
  }
 },
 "nbformat": 4,
 "nbformat_minor": 5
}
