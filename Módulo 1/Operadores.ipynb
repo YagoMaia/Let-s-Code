{
 "cells": [
  {
   "cell_type": "code",
   "execution_count": 1,
   "id": "906543df",
   "metadata": {},
   "outputs": [],
   "source": [
    "x = 50\n",
    "y = 2"
   ]
  },
  {
   "cell_type": "code",
   "execution_count": 2,
   "id": "aceccb98",
   "metadata": {},
   "outputs": [
    {
     "name": "stdout",
     "output_type": "stream",
     "text": [
      "52\n",
      "48\n",
      "100\n",
      "25.0\n"
     ]
    }
   ],
   "source": [
    "print(x + y) #adição\n",
    "print(x - y) #subtração\n",
    "print(x * y) #multiplicação\n",
    "print(x / y) #divisão"
   ]
  },
  {
   "cell_type": "code",
   "execution_count": 3,
   "id": "35ea7f0c",
   "metadata": {},
   "outputs": [
    {
     "name": "stdout",
     "output_type": "stream",
     "text": [
      "2500\n",
      "25\n",
      "0\n"
     ]
    }
   ],
   "source": [
    "print(x**y) #Potenciação\n",
    "print(x//y) #Divisão inteira --> Trunca o valor antes da virgula\n",
    "print(x%y) #Resto da divisão"
   ]
  },
  {
   "cell_type": "code",
   "execution_count": 5,
   "id": "323073d6",
   "metadata": {},
   "outputs": [
    {
     "name": "stdout",
     "output_type": "stream",
     "text": [
      "False\n",
      "True\n",
      "False\n"
     ]
    }
   ],
   "source": [
    "tem_cafe = True\n",
    "tem_pao = False\n",
    "print(not tem_cafe) #inverte o valor\n",
    "print(tem_cafe or tem_pao) #resulta true\n",
    "print(tem_cafe and tem_pao) #retorna false"
   ]
  },
  {
   "cell_type": "code",
   "execution_count": 6,
   "id": "2eca1aa8",
   "metadata": {},
   "outputs": [
    {
     "name": "stdout",
     "output_type": "stream",
     "text": [
      "True\n",
      "False\n",
      "True\n",
      "False\n",
      "False\n",
      "True\n"
     ]
    }
   ],
   "source": [
    "dolar = 5.3\n",
    "real = 1\n",
    "print(dolar > real)\n",
    "print(dolar < real)\n",
    "print(dolar >= real)\n",
    "print(dolar <= real)\n",
    "print(dolar == real)\n",
    "print(dolar != real)"
   ]
  }
 ],
 "metadata": {
  "kernelspec": {
   "display_name": "Python 3 (ipykernel)",
   "language": "python",
   "name": "python3"
  },
  "language_info": {
   "codemirror_mode": {
    "name": "ipython",
    "version": 3
   },
   "file_extension": ".py",
   "mimetype": "text/x-python",
   "name": "python",
   "nbconvert_exporter": "python",
   "pygments_lexer": "ipython3",
   "version": "3.10.5"
  }
 },
 "nbformat": 4,
 "nbformat_minor": 5
}
