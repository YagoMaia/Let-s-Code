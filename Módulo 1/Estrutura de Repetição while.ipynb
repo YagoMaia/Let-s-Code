{
 "cells": [
  {
   "cell_type": "code",
   "execution_count": 1,
   "id": "030cb462",
   "metadata": {},
   "outputs": [
    {
     "name": "stdout",
     "output_type": "stream",
     "text": [
      "1 item limpo\n",
      "2 itens limpos\n",
      "3 itens limpos\n",
      "4 itens limpos\n",
      "5 itens limpos\n",
      "6 itens limpos\n",
      "7 itens limpos\n",
      "8 itens limpos\n",
      "9 itens limpos\n",
      "10 itens limpos\n",
      "Fim da repetição do bloco while\n"
     ]
    }
   ],
   "source": [
    "contador = 0\n",
    "\n",
    "while contador < 10:\n",
    "    contador += 1\n",
    "    if contador == 1:\n",
    "        print(f\"{contador} item limpo\")\n",
    "    else:\n",
    "        print(f\"{contador} itens limpos\")\n",
    "print(\"Fim da repetição do bloco while\")"
   ]
  },
  {
   "cell_type": "code",
   "execution_count": 2,
   "id": "fb2146d6",
   "metadata": {},
   "outputs": [
    {
     "name": "stdout",
     "output_type": "stream",
     "text": [
      "1 item limpo\n",
      "2 itens limpos\n",
      "3 itens limpos\n",
      "4 itens limpos\n",
      "5 itens limpos\n",
      "6 itens limpos\n",
      "7 itens limpos\n",
      "8 itens limpos\n",
      "9 itens limpos\n",
      "10 itens limpos\n",
      "Fim da repetição do bloco while\n"
     ]
    }
   ],
   "source": [
    "contador = 0\n",
    "while True:\n",
    "    if contador < 10:\n",
    "        contador += 1\n",
    "        if contador == 1:\n",
    "            print(f\"{contador} item limpo\")\n",
    "        else:\n",
    "            print(f\"{contador} itens limpos\")\n",
    "    else:\n",
    "        break\n",
    "print(\"Fim da repetição do bloco while\")"
   ]
  },
  {
   "cell_type": "code",
   "execution_count": 4,
   "id": "9777b3a5",
   "metadata": {},
   "outputs": [
    {
     "name": "stdout",
     "output_type": "stream",
     "text": [
      "Digite sua senha: 123\n",
      "Senha inválida. Digitw sua senha: 1234\n",
      "Senha inválida. Digitw sua senha: LetsCode\n",
      "Acesso permitido\n"
     ]
    }
   ],
   "source": [
    "texto = input(\"Digite sua senha: \")\n",
    "while texto != \"LetsCode\":\n",
    "    texto = input(\"Senha inválida. Digite sua senha: \")\n",
    "print(\"Acesso permitido\")"
   ]
  },
  {
   "cell_type": "code",
   "execution_count": null,
   "id": "25f4726a",
   "metadata": {},
   "outputs": [],
   "source": [
    "contador = 0\n",
    "while True:\n",
    "    if contador < 10:\n",
    "        contador += 1\n",
    "        if contador == 1:\n",
    "            continue #Ignora tudo que tá abaixo e retorna a execução do programa, nesse caso a do while\n",
    "        print(f\"{contador} itens limpos\")\n",
    "    else:\n",
    "        break\n",
    "print(\"Fim da repetição do bloco while\")"
   ]
  }
 ],
 "metadata": {
  "kernelspec": {
   "display_name": "Python 3 (ipykernel)",
   "language": "python",
   "name": "python3"
  },
  "language_info": {
   "codemirror_mode": {
    "name": "ipython",
    "version": 3
   },
   "file_extension": ".py",
   "mimetype": "text/x-python",
   "name": "python",
   "nbconvert_exporter": "python",
   "pygments_lexer": "ipython3",
   "version": "3.10.5"
  }
 },
 "nbformat": 4,
 "nbformat_minor": 5
}
