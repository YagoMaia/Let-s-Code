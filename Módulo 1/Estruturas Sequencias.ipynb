{
 "cells": [
  {
   "cell_type": "code",
   "execution_count": 1,
   "id": "ce2328f7",
   "metadata": {},
   "outputs": [
    {
     "name": "stdout",
     "output_type": "stream",
     "text": [
      "Digite sua idade: 18\n",
      "18 <class 'str'>\n"
     ]
    }
   ],
   "source": [
    "idade = input(\"Digite sua idade: \")\n",
    "print(idade, type(idade))"
   ]
  },
  {
   "cell_type": "code",
   "execution_count": 2,
   "id": "e5b6519c",
   "metadata": {},
   "outputs": [
    {
     "name": "stdout",
     "output_type": "stream",
     "text": [
      "Digite sua idade: 18\n",
      "18 <class 'int'>\n"
     ]
    }
   ],
   "source": [
    "idade = int(input(\"Digite sua idade: \"))\n",
    "print(idade, type(idade))"
   ]
  },
  {
   "cell_type": "code",
   "execution_count": 3,
   "id": "0d543ea9",
   "metadata": {},
   "outputs": [
    {
     "name": "stdout",
     "output_type": "stream",
     "text": [
      "18.0\n"
     ]
    }
   ],
   "source": [
    "print(float(idade))"
   ]
  },
  {
   "cell_type": "code",
   "execution_count": 5,
   "id": "ae2c008b",
   "metadata": {},
   "outputs": [
    {
     "name": "stdout",
     "output_type": "stream",
     "text": [
      "123.25\n",
      "123.25\n",
      "False\n",
      "True\n"
     ]
    }
   ],
   "source": [
    "print(float(\"123.25\"))\n",
    "print(str(123.25))\n",
    "print(bool(\"\"))\n",
    "print(bool(\"abc\"))\n"
   ]
  },
  {
   "cell_type": "code",
   "execution_count": 11,
   "id": "20b0225b",
   "metadata": {},
   "outputs": [
    {
     "name": "stdout",
     "output_type": "stream",
     "text": [
      "Digite seu salario mensal: 5000\n",
      "Digite seu gasto mensal: 2000\n",
      "O valor da renda que pode ser economizada é: 36000.0\n"
     ]
    }
   ],
   "source": [
    "salario_mensal = float(input(\"Digite seu salario mensal: \"))\n",
    "gasto_mensal = float(input(\"Digite seu gasto mensal: \"))\n",
    "renda_economizada = salario_mensal*12 - gasto_mensal*12\n",
    "print(f\"O valor da renda que pode ser economizada é: {renda_economizada}\")"
   ]
  }
 ],
 "metadata": {
  "kernelspec": {
   "display_name": "Python 3 (ipykernel)",
   "language": "python",
   "name": "python3"
  },
  "language_info": {
   "codemirror_mode": {
    "name": "ipython",
    "version": 3
   },
   "file_extension": ".py",
   "mimetype": "text/x-python",
   "name": "python",
   "nbconvert_exporter": "python",
   "pygments_lexer": "ipython3",
   "version": "3.10.5"
  }
 },
 "nbformat": 4,
 "nbformat_minor": 5
}
