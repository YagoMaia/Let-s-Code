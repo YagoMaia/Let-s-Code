{
 "cells": [
  {
   "cell_type": "markdown",
   "id": "5fe4680a",
   "metadata": {},
   "source": [
    "# Modulo 1"
   ]
  },
  {
   "cell_type": "markdown",
   "id": "86c68978",
   "metadata": {},
   "source": [
    "## Ex 001\n",
    "Faça um programa que peça um valor monetário e diminua-o em 15%. Seu\n",
    "programa deve imprimir a mensagem “O novo valor é [valor]”.\n"
   ]
  },
  {
   "cell_type": "code",
   "execution_count": 1,
   "id": "dad2001e",
   "metadata": {
    "scrolled": true
   },
   "outputs": [
    {
     "name": "stdout",
     "output_type": "stream",
     "text": [
      "Digite um valor monetário: 1000\n",
      "O valor digitado ,1000, recebeu uma redução de 15% e foi reajustado para 850.0\n"
     ]
    }
   ],
   "source": [
    "valor = int(input(\"Digite um valor monetário: \"))\n",
    "novo_valor = 0.85*valor\n",
    "print(f\"O valor digitado ,{valor}, recebeu uma redução de 15% e foi reajustado para {novo_valor}\")"
   ]
  },
  {
   "cell_type": "markdown",
   "id": "a96ab3cc",
   "metadata": {},
   "source": [
    "## Ex 002\n",
    "Faça um programa que leia a validade das informações:\n",
    "\n",
    "- a. Idade: entre 0 e 150;\n",
    "- b. Salário: maior que 0;\n",
    "- c. Sexo: M, F ou Outro;\n",
    "\n",
    "O programa deve imprimir uma mensagem de erro para cada informação inválida.\n"
   ]
  },
  {
   "cell_type": "code",
   "execution_count": 3,
   "id": "9b353c59",
   "metadata": {},
   "outputs": [
    {
     "name": "stdout",
     "output_type": "stream",
     "text": [
      "Digite sua idade: 200\n",
      "Idade Inválida, Por favor digite uma idade consistente!\n",
      "Digite sua idade: 20\n",
      "Digite o valor do seu salário: 0\n",
      "Salário inválido, Por favor digite um salário válido\n",
      "Digite o valor do seu salário: -4\n",
      "Salário inválido, Por favor digite um salário válido\n",
      "Digite o valor do seu salário: 5000\n",
      "Digite seu sexo: [M, F, Outro]Gabriel\n",
      "Sexo inválido, por favor digite um sexo válido\n",
      "Digite seu sexo: [M, F, Outro]Jonas\n",
      "Sexo inválido, por favor digite um sexo válido\n",
      "Digite seu sexo: [M, F, Outro]masculino\n",
      "Você tem 20 anos, com um salário de 5000.0 e é do sexo M\n"
     ]
    }
   ],
   "source": [
    "idade = int(input(\"Digite sua idade: \"))\n",
    "while idade >= 150 or 0 >= idade: \n",
    "    print(\"Idade Inválida, Por favor digite uma idade consistente!\")\n",
    "    idade = int(input(\"Digite sua idade: \"))\n",
    "salario = float(input(\"Digite o valor do seu salário: \"))\n",
    "while salario <= 0:\n",
    "    print(\"Salário inválido, Por favor digite um salário válido\")\n",
    "    salario = float(input(\"Digite o valor do seu salário: \"))\n",
    "sexo = input(\"Digite seu sexo: [M, F, Outro]\").strip().upper()[0]\n",
    "while (sexo != \"M\") and (sexo != \"F\") and (sexo != \"O\"):\n",
    "    print(\"Sexo inválido, por favor digite um sexo válido\")\n",
    "    sexo = input(\"Digite seu sexo: [M, F, Outro]\").strip().upper()[0]\n",
    "print(f\"Você tem {idade} anos, com um salário de {salario} e é do sexo {sexo}\")"
   ]
  },
  {
   "cell_type": "markdown",
   "id": "4ba2b30c",
   "metadata": {},
   "source": [
    "##  Ex 003\n",
    "\n",
    "Vamos fazer um programa para verificar quem é o assassino de um crime. Para descobrir o assassino, a polícia faz um pequeno questionário com 5 perguntas onde a resposta só pode ser sim ou não:\n",
    "- a. Mora perto da vítima?\n",
    "- b. Já trabalhou com a vítima?\n",
    "- c. Telefonou para a vítima?\n",
    "- d. Esteve no local do crime?\n",
    "- e. Devia para a vítima?\n",
    "\n",
    "Cada resposta sim dá um ponto para o suspeito. A polícia considera que os suspeitos com 5 pontos são os assassinos, com 4 a 3 pontos são cúmplices e 2 pontos são apenas suspeitos, necessitando outras investigações. Valores iguais ou abaixo de 1 são liberados."
   ]
  },
  {
   "cell_type": "code",
   "execution_count": 16,
   "id": "a2abe902",
   "metadata": {},
   "outputs": [
    {
     "name": "stdout",
     "output_type": "stream",
     "text": [
      "Mora perto da vítima? [S/N]s\n",
      "Trabalha com vítima? [S/N]s\n",
      "Telefonou para a vítima? [S/N]s\n",
      "Esteve no local do crime? [S/N]s\n",
      "Devia para a vítima? [S/N]s\n",
      "Ele é o suspeito\n"
     ]
    }
   ],
   "source": [
    "contador = 0\n",
    "mora = input(\"Mora perto da vítima? [S/N]\").strip().upper()[0]\n",
    "trabalha = input(\"Trabalha com vítima? [S/N]\").strip().upper()[0]\n",
    "telefone = input(\"Telefonou para a vítima? [S/N]\").strip().upper()[0]\n",
    "local = input(\"Esteve no local do crime? [S/N]\").strip().upper()[0]\n",
    "divida = input(\"Devia para a vítima? [S/N]\").strip().upper()[0]\n",
    "respostas = [mora, trabalha, telefone, local, divida]\n",
    "for resposta in range(0, len(respostas)):\n",
    "    if respostas[resposta] == \"S\":\n",
    "        contador += 1\n",
    "if contador == 5:\n",
    "    print(\"Ele é o assasino\")\n",
    "elif contador <= 4 and contador >=3 : #se o contador for menor que 4 e maior que 3 || contador <= 4 and contador >= 3\n",
    "    print(\"Ele é um cúmplice\")\n",
    "elif contador == 2:\n",
    "    print(\"Ele é suspeito\")\n",
    "else:\n",
    "    print(\"Ele está livre\")"
   ]
  },
  {
   "cell_type": "markdown",
   "id": "1be338b9",
   "metadata": {},
   "source": [
    "## Ex 004\n",
    "\n",
    "Faça um programa que imprima a tabuada do 9 (de 9*1 a 9*10) usando loops."
   ]
  },
  {
   "cell_type": "code",
   "execution_count": 15,
   "id": "94775f07",
   "metadata": {},
   "outputs": [
    {
     "name": "stdout",
     "output_type": "stream",
     "text": [
      "Digite o número para ver sua tabuada: 4\n",
      "4 x 1 = 4\n",
      "4 x 2 = 8\n",
      "4 x 3 = 12\n",
      "4 x 4 = 16\n",
      "4 x 5 = 20\n",
      "4 x 6 = 24\n",
      "4 x 7 = 28\n",
      "4 x 8 = 32\n",
      "4 x 9 = 36\n",
      "4 x 10 = 40\n",
      "tabuada finalizada\n"
     ]
    }
   ],
   "source": [
    "numero = int(input(\"Digite o número para ver sua tabuada: \"))\n",
    "contador = 0\n",
    "while contador < 10:\n",
    "    contador += 1\n",
    "    print(f\"{numero} x {contador} = {numero*contador}\")\n",
    "print(\"tabuada finalizada\")"
   ]
  },
  {
   "cell_type": "markdown",
   "id": "0e6f9ee8",
   "metadata": {},
   "source": [
    "# Módulo 2"
   ]
  },
  {
   "cell_type": "markdown",
   "id": "d47ccbad",
   "metadata": {},
   "source": [
    "## Ex001\n",
    "\n",
    "Faça um programa que leia todos os itens de uma lista e diga quantos deles são pares"
   ]
  },
  {
   "cell_type": "code",
   "execution_count": 8,
   "id": "157a4a24",
   "metadata": {},
   "outputs": [
    {
     "name": "stdout",
     "output_type": "stream",
     "text": [
      "Digite um número para ao final analisar quantos número pares foram digitados: 6\n",
      "Deseja cadastrar mais números: [S/N] s\n",
      "Digite um número: 10\n",
      "Deseja cadastrar mais números: [S/N] s\n",
      "Digite um número: 7\n",
      "Deseja cadastrar mais números: [S/N] s\n",
      "Digite um número: 5\n",
      "Deseja cadastrar mais números: [S/N] n\n",
      "Foram digitados ao todo 2 números pares\n"
     ]
    }
   ],
   "source": [
    "lista = []\n",
    "count_par = 0\n",
    "elemento = int(input(\"Digite um número para ao final analisar quantos número pares foram digitados: \"))\n",
    "lista.append(elemento)\n",
    "resp = input(\"Deseja cadastrar mais números: [S/N] \").upper()\n",
    "while resp != \"N\" and resp != \"S\":\n",
    "    print(\"Resposta inválida. Digite uma resposta válida\")\n",
    "    resp = input(\"Deseja cadastrar mais números: [S/N] \").upper()\n",
    "while resp != \"N\":\n",
    "    elemento = int(input(\"Digite um número: \"))\n",
    "    lista.append(elemento)\n",
    "    resp = input(\"Deseja cadastrar mais números: [S/N] \").upper()\n",
    "    while resp != \"N\" and resp != \"S\":\n",
    "        print(\"Resposta inválida. Digite uma resposta válida\")\n",
    "        resp = input(\"Deseja cadastrar mais números: [S/N] \").upper()\n",
    "for numero in range(0, len(lista)):\n",
    "    if lista[numero] % 2 == 0:\n",
    "        count_par += 1\n",
    "print(f'Foram digitados ao todo {count_par} números pares')"
   ]
  },
  {
   "cell_type": "markdown",
   "id": "84d50ae1",
   "metadata": {},
   "source": [
    "## Ex 002\n",
    "\n",
    "Faça um programa que peça para o usuário digitar um palavra e imprima cada letra em uma linha"
   ]
  },
  {
   "cell_type": "code",
   "execution_count": 11,
   "id": "39fc7880",
   "metadata": {},
   "outputs": [
    {
     "name": "stdout",
     "output_type": "stream",
     "text": [
      "Digite uma frase: O Rato roeu a roupa do rei de Roma\n",
      "O\n",
      " \n",
      "R\n",
      "a\n",
      "t\n",
      "o\n",
      " \n",
      "r\n",
      "o\n",
      "e\n",
      "u\n",
      " \n",
      "a\n",
      " \n",
      "r\n",
      "o\n",
      "u\n",
      "p\n",
      "a\n",
      " \n",
      "d\n",
      "o\n",
      " \n",
      "r\n",
      "e\n",
      "i\n",
      " \n",
      "d\n",
      "e\n",
      " \n",
      "R\n",
      "o\n",
      "m\n",
      "a\n"
     ]
    }
   ],
   "source": [
    "frase = input('Digite uma frase: ')\n",
    "len(frase)\n",
    "for letra in frase:\n",
    "    print(letra)"
   ]
  },
  {
   "cell_type": "markdown",
   "id": "c142e821",
   "metadata": {},
   "source": [
    "## Ex 003\n",
    "\n",
    "Faça uma função que recebe duas listas e retorna a soma item a item dessas listas\n",
    "ex: Se a função receber as listas [1,4,3] e [3,5,1], então a função deve retornar [1+3, 4+5, 3+1] = [4,9,4]"
   ]
  },
  {
   "cell_type": "code",
   "execution_count": 14,
   "id": "be155190",
   "metadata": {},
   "outputs": [
    {
     "name": "stdout",
     "output_type": "stream",
     "text": [
      "[4, 9, 4]\n"
     ]
    }
   ],
   "source": [
    "def soma_listas(lista_1 = [], lista_2 = []):\n",
    "    lista_soma = []\n",
    "    for elemento in range(0, len(lista_1)):\n",
    "        soma = lista_1[elemento] + lista_2[elemento]\n",
    "        lista_soma.append(soma)\n",
    "    print(lista_soma)\n",
    "    \n",
    "soma_listas([1, 4, 3], [3, 5, 1])"
   ]
  },
  {
   "cell_type": "markdown",
   "id": "42ec6615",
   "metadata": {},
   "source": [
    "## Ex004 e 005\n",
    "\n",
    "Crie um dicionário cujas chaves são os meses do ano e os valores são a duração em dias de cada mês"
   ]
  },
  {
   "cell_type": "code",
   "execution_count": 20,
   "id": "59e0a1c0",
   "metadata": {},
   "outputs": [
    {
     "name": "stdout",
     "output_type": "stream",
     "text": [
      "Janeiro - 31\n",
      "Feveiro - 28\n",
      "Abril - 30\n",
      "Maio - 31\n",
      "Junho - 30\n",
      "Julho - 31\n",
      "Agosto - 31\n",
      "Setembro - 30\n",
      "Outubro - 31\n",
      "Novembro - 30\n",
      "Dezembro - 31\n"
     ]
    }
   ],
   "source": [
    "ano = {\n",
    "    'Janeiro' : 31,\n",
    "    'Feveiro' : 28,\n",
    "    'Abril': 30,\n",
    "    'Maio': 31,\n",
    "    'Junho': 30,\n",
    "    'Julho': 31,\n",
    "    'Agosto': 31,\n",
    "    'Setembro': 30,\n",
    "    'Outubro': 31,\n",
    "    'Novembro': 30,\n",
    "    'Dezembro': 31\n",
    "}\n",
    "\n",
    "for keys, values in ano.items(): #Não lembrei que tinha que colocar o .items no dicionário\n",
    "    print(f'{keys} - {values}')"
   ]
  },
  {
   "cell_type": "markdown",
   "id": "3a8c0fae",
   "metadata": {},
   "source": [
    "# Modulo 3"
   ]
  },
  {
   "cell_type": "markdown",
   "id": "a40e5295",
   "metadata": {},
   "source": [
    "## Ex 001, 002, 003\n",
    "\n",
    "Neste exercício você deve criar um programa que abra o arquivo 'alunos.csv' e imprima o conteúdo do arquivo linha a linha"
   ]
  },
  {
   "cell_type": "code",
   "execution_count": 53,
   "id": "cd3eeff4",
   "metadata": {},
   "outputs": [
    {
     "name": "stdout",
     "output_type": "stream",
     "text": [
      "RA,Nome,Frequencia,Prova_1,Prova_2,Prova_3,Prova_4\n",
      "\n",
      "110201,Antonio Carlos,20,6.5,8.5,7,6\n",
      "\n",
      "110212,Ana Beatriz,20,7,7,7,8\n",
      "\n",
      "110218,Carlos Vernes,17,7,7,7,7\n",
      "\n",
      "110307,Francisco Cunha,20,9,8.5,8.5,10\n",
      "\n",
      "110275,Sandra Rosa,15,6.5,7.5,7,7\n",
      "\n",
      "110281,Juliana Arruda,18,7.5,7,7.5,8\n",
      "\n",
      "110301,Joao Galo,20,5,6.5,7,5\n",
      "\n",
      "110263,José Valente,20,10,10,10,10\n",
      "\n",
      "110271,Maria Ferreira,19,9.5,8,7,10\n",
      "\n",
      "110236,Adriana Tavares,20,8,8,8,8\n",
      "\n"
     ]
    }
   ],
   "source": [
    "import csv\n",
    "\n",
    "count = 1\n",
    "with open('alunos.csv', 'r', encoding = 'utf-8') as arquivo:\n",
    "    with open('alunos_copia.csv', 'w', encoding ='utf-8', newline='') as copia:\n",
    "        escritor = csv.writer(copia)\n",
    "        for linha in arquivo:\n",
    "            print(linha)\n",
    "            linha = linha.split(',')\n",
    "            escritor.writerow(linha)\n",
    "    with open('alunos_media.csv', 'w', encoding ='utf-8', newline='') as media:\n",
    "        escritor = csv.writer(media)\n",
    "        for linha in arquivo:\n",
    "            print(linha)\n",
    "            linha = linha.split(',')\n",
    "            escritor.writerow(linha)\n",
    "            \n",
    "'''with open('alunos_copia.csv', 'r', encoding ='utf-8') as copia:\n",
    "    for linha in copia:\n",
    "        print(linha)'''\n",
    "\n",
    "with open('alunos_media.csv', 'r', encoding ='utf-8') as media:\n",
    "    for linha in media:\n",
    "        print(linha)"
   ]
  }
 ],
 "metadata": {
  "kernelspec": {
   "display_name": "Python 3 (ipykernel)",
   "language": "python",
   "name": "python3"
  },
  "language_info": {
   "codemirror_mode": {
    "name": "ipython",
    "version": 3
   },
   "file_extension": ".py",
   "mimetype": "text/x-python",
   "name": "python",
   "nbconvert_exporter": "python",
   "pygments_lexer": "ipython3",
   "version": "3.10.5"
  }
 },
 "nbformat": 4,
 "nbformat_minor": 5
}
