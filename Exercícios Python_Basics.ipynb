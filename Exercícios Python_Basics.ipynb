{
 "cells": [
  {
   "cell_type": "markdown",
   "id": "5fe4680a",
   "metadata": {},
   "source": [
    "# Modulo 1"
   ]
  },
  {
   "cell_type": "markdown",
   "id": "86c68978",
   "metadata": {},
   "source": [
    "## Ex 001\n",
    "Faça um programa que peça um valor monetário e diminua-o em 15%. Seu\n",
    "programa deve imprimir a mensagem “O novo valor é [valor]”.\n"
   ]
  },
  {
   "cell_type": "code",
   "execution_count": 1,
   "id": "dad2001e",
   "metadata": {
    "scrolled": true
   },
   "outputs": [
    {
     "name": "stdout",
     "output_type": "stream",
     "text": [
      "Digite um valor monetário: 1000\n",
      "O valor digitado ,1000, recebeu uma redução de 15% e foi reajustado para 850.0\n"
     ]
    }
   ],
   "source": [
    "valor = int(input(\"Digite um valor monetário: \"))\n",
    "novo_valor = 0.85*valor\n",
    "print(f\"O valor digitado ,{valor}, recebeu uma redução de 15% e foi reajustado para {novo_valor}\")"
   ]
  },
  {
   "cell_type": "markdown",
   "id": "a96ab3cc",
   "metadata": {},
   "source": [
    "## Ex 002\n",
    "Faça um programa que leia a validade das informações:\n",
    "\n",
    "- a. Idade: entre 0 e 150;\n",
    "- b. Salário: maior que 0;\n",
    "- c. Sexo: M, F ou Outro;\n",
    "\n",
    "O programa deve imprimir uma mensagem de erro para cada informação inválida.\n"
   ]
  },
  {
   "cell_type": "code",
   "execution_count": 3,
   "id": "9b353c59",
   "metadata": {},
   "outputs": [
    {
     "name": "stdout",
     "output_type": "stream",
     "text": [
      "Digite sua idade: 200\n",
      "Idade Inválida, Por favor digite uma idade consistente!\n",
      "Digite sua idade: 20\n",
      "Digite o valor do seu salário: 0\n",
      "Salário inválido, Por favor digite um salário válido\n",
      "Digite o valor do seu salário: -4\n",
      "Salário inválido, Por favor digite um salário válido\n",
      "Digite o valor do seu salário: 5000\n",
      "Digite seu sexo: [M, F, Outro]Gabriel\n",
      "Sexo inválido, por favor digite um sexo válido\n",
      "Digite seu sexo: [M, F, Outro]Jonas\n",
      "Sexo inválido, por favor digite um sexo válido\n",
      "Digite seu sexo: [M, F, Outro]masculino\n",
      "Você tem 20 anos, com um salário de 5000.0 e é do sexo M\n"
     ]
    }
   ],
   "source": [
    "idade = int(input(\"Digite sua idade: \"))\n",
    "while idade >= 150 or 0 >= idade: \n",
    "    print(\"Idade Inválida, Por favor digite uma idade consistente!\")\n",
    "    idade = int(input(\"Digite sua idade: \"))\n",
    "salario = float(input(\"Digite o valor do seu salário: \"))\n",
    "while salario <= 0:\n",
    "    print(\"Salário inválido, Por favor digite um salário válido\")\n",
    "    salario = float(input(\"Digite o valor do seu salário: \"))\n",
    "sexo = input(\"Digite seu sexo: [M, F, Outro]\").strip().upper()[0]\n",
    "while (sexo != \"M\") and (sexo != \"F\") and (sexo != \"O\"):\n",
    "    print(\"Sexo inválido, por favor digite um sexo válido\")\n",
    "    sexo = input(\"Digite seu sexo: [M, F, Outro]\").strip().upper()[0]\n",
    "print(f\"Você tem {idade} anos, com um salário de {salario} e é do sexo {sexo}\")"
   ]
  },
  {
   "cell_type": "markdown",
   "id": "4ba2b30c",
   "metadata": {},
   "source": [
    "##  Ex 003\n",
    "\n",
    "Vamos fazer um programa para verificar quem é o assassino de um crime. Para descobrir o assassino, a polícia faz um pequeno questionário com 5 perguntas onde a resposta só pode ser sim ou não:\n",
    "- a. Mora perto da vítima?\n",
    "- b. Já trabalhou com a vítima?\n",
    "- c. Telefonou para a vítima?\n",
    "- d. Esteve no local do crime?\n",
    "- e. Devia para a vítima?\n",
    "\n",
    "Cada resposta sim dá um ponto para o suspeito. A polícia considera que os suspeitos com 5 pontos são os assassinos, com 4 a 3 pontos são cúmplices e 2 pontos são apenas suspeitos, necessitando outras investigações. Valores iguais ou abaixo de 1 são liberados."
   ]
  },
  {
   "cell_type": "code",
   "execution_count": 16,
   "id": "a2abe902",
   "metadata": {},
   "outputs": [
    {
     "name": "stdout",
     "output_type": "stream",
     "text": [
      "Mora perto da vítima? [S/N]s\n",
      "Trabalha com vítima? [S/N]s\n",
      "Telefonou para a vítima? [S/N]s\n",
      "Esteve no local do crime? [S/N]s\n",
      "Devia para a vítima? [S/N]s\n",
      "Ele é o suspeito\n"
     ]
    }
   ],
   "source": [
    "contador = 0\n",
    "mora = input(\"Mora perto da vítima? [S/N]\").strip().upper()[0]\n",
    "trabalha = input(\"Trabalha com vítima? [S/N]\").strip().upper()[0]\n",
    "telefone = input(\"Telefonou para a vítima? [S/N]\").strip().upper()[0]\n",
    "local = input(\"Esteve no local do crime? [S/N]\").strip().upper()[0]\n",
    "divida = input(\"Devia para a vítima? [S/N]\").strip().upper()[0]\n",
    "respostas = [mora, trabalha, telefone, local, divida]\n",
    "for resposta in range(0, len(respostas)):\n",
    "    if respostas[resposta] == \"S\":\n",
    "        contador += 1\n",
    "if contador == 5:\n",
    "    print(\"Ele é o assasino\")\n",
    "elif contador <= 4 and contador >=3 : #se o contador for menor que 4 e maior que 3 || contador <= 4 and contador >= 3\n",
    "    print(\"Ele é um cúmplice\")\n",
    "elif contador == 2:\n",
    "    print(\"Ele é suspeito\")\n",
    "else:\n",
    "    print(\"Ele está livre\")"
   ]
  },
  {
   "cell_type": "markdown",
   "id": "1be338b9",
   "metadata": {},
   "source": [
    "## Ex 004\n",
    "\n",
    "Faça um programa que imprima a tabuada do 9 (de 9*1 a 9*10) usando loops."
   ]
  },
  {
   "cell_type": "code",
   "execution_count": 15,
   "id": "94775f07",
   "metadata": {},
   "outputs": [
    {
     "name": "stdout",
     "output_type": "stream",
     "text": [
      "Digite o número para ver sua tabuada: 4\n",
      "4 x 1 = 4\n",
      "4 x 2 = 8\n",
      "4 x 3 = 12\n",
      "4 x 4 = 16\n",
      "4 x 5 = 20\n",
      "4 x 6 = 24\n",
      "4 x 7 = 28\n",
      "4 x 8 = 32\n",
      "4 x 9 = 36\n",
      "4 x 10 = 40\n",
      "tabuada finalizada\n"
     ]
    }
   ],
   "source": [
    "numero = int(input(\"Digite o número para ver sua tabuada: \"))\n",
    "contador = 0\n",
    "while contador < 10:\n",
    "    contador += 1\n",
    "    print(f\"{numero} x {contador} = {numero*contador}\")\n",
    "print(\"tabuada finalizada\")"
   ]
  },
  {
   "cell_type": "markdown",
   "id": "0e6f9ee8",
   "metadata": {},
   "source": [
    "# Módulo 2"
   ]
  }
 ],
 "metadata": {
  "kernelspec": {
   "display_name": "Python 3 (ipykernel)",
   "language": "python",
   "name": "python3"
  },
  "language_info": {
   "codemirror_mode": {
    "name": "ipython",
    "version": 3
   },
   "file_extension": ".py",
   "mimetype": "text/x-python",
   "name": "python",
   "nbconvert_exporter": "python",
   "pygments_lexer": "ipython3",
   "version": "3.10.5"
  }
 },
 "nbformat": 4,
 "nbformat_minor": 5
}
