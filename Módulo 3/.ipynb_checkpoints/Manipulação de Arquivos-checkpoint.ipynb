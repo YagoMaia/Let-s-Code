{
 "cells": [
  {
   "cell_type": "code",
   "execution_count": 3,
   "id": "9dcb2bbe",
   "metadata": {},
   "outputs": [
    {
     "name": "stdout",
     "output_type": "stream",
     "text": [
      "Alguns anos atrás, comecei uma jornada para o\n",
      "desconhecido com uma garota que ainda não tinha nem\n",
      "nome. Tive sorte de ter pessoas maravilhosas me apoiando\n",
      "e torcendo ao longo de todo o percurso.\n",
      "Equipe das ciências (!)\n",
      "A parte curiosa sobre o truque da Alina de curvar a luz é\n",
      "que, na verdade, é uma das coisas que mais faz sentido\n",
      "científico nestes livros. No mundo real, chama-se\n",
      "“tecnologia de manto da invisibilidade” (o que me faz feliz\n",
      "em diversos aspectos). Procure no Google e prepare-se para\n",
      "ser surpreendido. Peter Bribring sugeriu-a para mim, e\n",
      "Tomikyana tem esse nome graças à sua filha, Iris Tommiko.\n",
      "Harper Seiko: prometo usar seu nome no próximo livro. Eu\n",
      "também devo agradecimentos à esposa de Peter, Michelle\n",
      "Chihara, que é uma grande amiga e excelente escritora.\n",
      "Quando a Trilogia Grisha foi vendida para Henry Holt, eu\n",
      "dancei em sua cozinha. Isso não é um eufemismo. Muito\n",
      "obrigada a John Williams pela centelha que levou ao lençol\n",
      "acústico.\n",
      "Equipe das palavras\n",
      "Noa Wheeler e eu discutimos títulos e nos aproximamos\n",
      "graças aos livros e conspiramos com bolinhos. Obrigada por\n",
      "tornar o trabalho difícil tão divertido. Muito obrigada\n",
      "também a Jon Yaged, Jean Feiwel, Laura Godwin, Angus\n",
      "Killick, Elizabeth Fithian, Lucy del Priore, April Ward, Rich\n",
      "Deas, Allison Verost, à incansavelmente paciente Molly\n",
      "Brouillette, à incrível Ksenia Winnicki e à Caitlin Sweeny,\n",
      "que se esforçaram tanto para promover a trilogia na\n",
      "internet. Eu também queria dizer um obrigado especial a\n",
      "Veronica Roth, John Picacio, Michael Scott, Lauren DeStefano\n",
      "e a Rick Riordan, que foram muito gentis comigo e com\n",
      "esses livros.\n",
      "Equipe da Agência\n"
     ]
    }
   ],
   "source": [
    "arquivo = open('capitulo_1.txt', 'r', encoding='utf-8') #r indica modo de leitura\n",
    "texto = arquivo.read()\n",
    "print(texto)\n",
    "arquivo.close()"
   ]
  },
  {
   "cell_type": "code",
   "execution_count": 5,
   "id": "327e6ba2",
   "metadata": {},
   "outputs": [
    {
     "name": "stdout",
     "output_type": "stream",
     "text": [
      "Alguns anos atrás, comecei uma jornada para o\n",
      "desconhecido com uma garota que ainda não tinha nem\n",
      "nome. Tive sorte de ter pessoas maravilhosas me apoiando\n",
      "e torcendo ao longo de todo o percurso.\n",
      "Equipe das ciências (!)\n",
      "A parte curiosa sobre o truque da Alina de curvar a luz é\n",
      "que, na verdade, é uma das coisas que mais faz sentido\n",
      "científico nestes livros. No mundo real, chama-se\n",
      "“tecnologia de manto da invisibilidade” (o que me faz feliz\n",
      "em diversos aspectos). Procure no Google e prepare-se para\n",
      "ser surpreendido. Peter Bribring sugeriu-a para mim, e\n",
      "Tomikyana tem esse nome graças à sua filha, Iris Tommiko.\n",
      "Harper Seiko: prometo usar seu nome no próximo livro. Eu\n",
      "também devo agradecimentos à esposa de Peter, Michelle\n",
      "Chihara, que é uma grande amiga e excelente escritora.\n",
      "Quando a Trilogia Grisha foi vendida para Henry Holt, eu\n",
      "dancei em sua cozinha. Isso não é um eufemismo. Muito\n",
      "obrigada a John Williams pela centelha que levou ao lençol\n",
      "acústico.\n",
      "Equipe das palavras\n",
      "Noa Wheeler e eu discutimos títulos e nos aproximamos\n",
      "graças aos livros e conspiramos com bolinhos. Obrigada por\n",
      "tornar o trabalho difícil tão divertido. Muito obrigada\n",
      "também a Jon Yaged, Jean Feiwel, Laura Godwin, Angus\n",
      "Killick, Elizabeth Fithian, Lucy del Priore, April Ward, Rich\n",
      "Deas, Allison Verost, à incansavelmente paciente Molly\n",
      "Brouillette, à incrível Ksenia Winnicki e à Caitlin Sweeny,\n",
      "que se esforçaram tanto para promover a trilogia na\n",
      "internet. Eu também queria dizer um obrigado especial a\n",
      "Veronica Roth, John Picacio, Michael Scott, Lauren DeStefano\n",
      "e a Rick Riordan, que foram muito gentis comigo e com\n",
      "esses livros.\n",
      "Equipe da Agência"
     ]
    }
   ],
   "source": [
    "arquivo = open('capitulo_1.txt', 'r', encoding='utf-8') #r indica modo de leitura\n",
    "linha = arquivo.readline() #Cria um cursor que ler a primeira linha, mas assim que chamado novamente vai para a linha seguinte\n",
    "while linha != '':\n",
    "    print(linha, end='')\n",
    "    linha = arquivo.readline()\n",
    "arquivo.close()"
   ]
  },
  {
   "cell_type": "code",
   "execution_count": 7,
   "id": "26027a86",
   "metadata": {},
   "outputs": [
    {
     "name": "stdout",
     "output_type": "stream",
     "text": [
      "Alguns anos atrás, comecei uma jornada para o\n",
      "desconhecido com uma garota que ainda não tinha nem\n",
      "nome. Tive sorte de ter pessoas maravilhosas me apoiando\n",
      "e torcendo ao longo de todo o percurso.\n",
      "Equipe das ciências (!)\n",
      "A parte curiosa sobre o truque da Alina de curvar a luz é\n",
      "que, na verdade, é uma das coisas que mais faz sentido\n",
      "científico nestes livros. No mundo real, chama-se\n",
      "“tecnologia de manto da invisibilidade” (o que me faz feliz\n",
      "em diversos aspectos). Procure no Google e prepare-se para\n",
      "ser surpreendido. Peter Bribring sugeriu-a para mim, e\n",
      "Tomikyana tem esse nome graças à sua filha, Iris Tommiko.\n",
      "Harper Seiko: prometo usar seu nome no próximo livro. Eu\n",
      "também devo agradecimentos à esposa de Peter, Michelle\n",
      "Chihara, que é uma grande amiga e excelente escritora.\n",
      "Quando a Trilogia Grisha foi vendida para Henry Holt, eu\n",
      "dancei em sua cozinha. Isso não é um eufemismo. Muito\n",
      "obrigada a John Williams pela centelha que levou ao lençol\n",
      "acústico.\n",
      "Equipe das palavras\n",
      "Noa Wheeler e eu discutimos títulos e nos aproximamos\n",
      "graças aos livros e conspiramos com bolinhos. Obrigada por\n",
      "tornar o trabalho difícil tão divertido. Muito obrigada\n",
      "também a Jon Yaged, Jean Feiwel, Laura Godwin, Angus\n",
      "Killick, Elizabeth Fithian, Lucy del Priore, April Ward, Rich\n",
      "Deas, Allison Verost, à incansavelmente paciente Molly\n",
      "Brouillette, à incrível Ksenia Winnicki e à Caitlin Sweeny,\n",
      "que se esforçaram tanto para promover a trilogia na\n",
      "internet. Eu também queria dizer um obrigado especial a\n",
      "Veronica Roth, John Picacio, Michael Scott, Lauren DeStefano\n",
      "e a Rick Riordan, que foram muito gentis comigo e com\n",
      "esses livros.\n",
      "Equipe da Agência"
     ]
    }
   ],
   "source": [
    "arquivo = open('capitulo_1.txt', 'r', encoding='utf-8')\n",
    "for linha in arquivo:\n",
    "    print(linha, end='')\n",
    "arquivo.close()"
   ]
  },
  {
   "cell_type": "code",
   "execution_count": 8,
   "id": "70664c73",
   "metadata": {},
   "outputs": [
    {
     "name": "stdout",
     "output_type": "stream",
     "text": [
      "Alguns anos atrás, comecei uma jornada para o\n",
      "desconhecido com uma garota que ainda não tinha nem\n",
      "nome. Tive sorte de ter pessoas maravilhosas me apoiando\n",
      "e torcendo ao longo de todo o percurso.\n",
      "Equipe das ciências (!)\n",
      "A parte curiosa sobre o truque da Alina de curvar a luz é\n",
      "que, na verdade, é uma das coisas que mais faz sentido\n",
      "científico nestes livros. No mundo real, chama-se\n",
      "“tecnologia de manto da invisibilidade” (o que me faz feliz\n",
      "em diversos aspectos). Procure no Google e prepare-se para\n",
      "ser surpreendido. Peter Bribring sugeriu-a para mim, e\n",
      "Tomikyana tem esse nome graças à sua filha, Iris Tommiko.\n",
      "Harper Seiko: prometo usar seu nome no próximo livro. Eu\n",
      "também devo agradecimentos à esposa de Peter, Michelle\n",
      "Chihara, que é uma grande amiga e excelente escritora.\n",
      "Quando a Trilogia Grisha foi vendida para Henry Holt, eu\n",
      "dancei em sua cozinha. Isso não é um eufemismo. Muito\n",
      "obrigada a John Williams pela centelha que levou ao lençol\n",
      "acústico.\n",
      "Equipe das palavras\n",
      "Noa Wheeler e eu discutimos títulos e nos aproximamos\n",
      "graças aos livros e conspiramos com bolinhos. Obrigada por\n",
      "tornar o trabalho difícil tão divertido. Muito obrigada\n",
      "também a Jon Yaged, Jean Feiwel, Laura Godwin, Angus\n",
      "Killick, Elizabeth Fithian, Lucy del Priore, April Ward, Rich\n",
      "Deas, Allison Verost, à incansavelmente paciente Molly\n",
      "Brouillette, à incrível Ksenia Winnicki e à Caitlin Sweeny,\n",
      "que se esforçaram tanto para promover a trilogia na\n",
      "internet. Eu também queria dizer um obrigado especial a\n",
      "Veronica Roth, John Picacio, Michael Scott, Lauren DeStefano\n",
      "e a Rick Riordan, que foram muito gentis comigo e com\n",
      "esses livros.\n",
      "Equipe da Agência\n"
     ]
    }
   ],
   "source": [
    "with open('capitulo_1.txt', 'r', encoding='utf-8') as arquivo:\n",
    "    texto = arquivo.read()\n",
    "    print(texto)"
   ]
  },
  {
   "cell_type": "code",
   "execution_count": 13,
   "id": "c1025473",
   "metadata": {},
   "outputs": [],
   "source": [
    "with open('arquivo_teste.txt', 'w', encoding='utf-8') as arquivo:\n",
    "    arquivo.write('Essa é uma linha que eu escrevi usando python\\n')\n",
    "    arquivo.write('Essa é uma outra linha que eu escrevi usando python\\n')"
   ]
  },
  {
   "cell_type": "code",
   "execution_count": 14,
   "id": "f70e8762",
   "metadata": {},
   "outputs": [
    {
     "name": "stdout",
     "output_type": "stream",
     "text": [
      "Essa é uma linha que eu escrevi usando python\n",
      "Essa é uma outra linha que eu escrevi usando python\n",
      "\n"
     ]
    }
   ],
   "source": [
    "with open('arquivo_teste.txt', 'r', encoding = 'utf-8') as arquivo:\n",
    "    print(arquivo.read(), end='')"
   ]
  },
  {
   "cell_type": "code",
   "execution_count": 15,
   "id": "0b657bb0",
   "metadata": {},
   "outputs": [],
   "source": [
    "with open('arquivo_teste.txt', 'a', encoding='utf-8') as arquivo: #Adicionar linha\n",
    "    arquivo.write('Essa é a terceira linha que eu escrevi usando python\\n')"
   ]
  },
  {
   "cell_type": "code",
   "execution_count": 16,
   "id": "f1da3487",
   "metadata": {},
   "outputs": [
    {
     "name": "stdout",
     "output_type": "stream",
     "text": [
      "Essa é uma linha que eu escrevi usando python\n",
      "Essa é uma outra linha que eu escrevi usando python\n",
      "Essa é a terceira linha que eu escrevi usando python\n"
     ]
    }
   ],
   "source": [
    "with open('arquivo_teste.txt', 'r', encoding = 'utf-8') as arquivo:\n",
    "    print(arquivo.read(), end='')"
   ]
  }
 ],
 "metadata": {
  "kernelspec": {
   "display_name": "Python 3 (ipykernel)",
   "language": "python",
   "name": "python3"
  },
  "language_info": {
   "codemirror_mode": {
    "name": "ipython",
    "version": 3
   },
   "file_extension": ".py",
   "mimetype": "text/x-python",
   "name": "python",
   "nbconvert_exporter": "python",
   "pygments_lexer": "ipython3",
   "version": "3.10.5"
  }
 },
 "nbformat": 4,
 "nbformat_minor": 5
}
