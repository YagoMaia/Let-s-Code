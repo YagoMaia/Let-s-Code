{
 "cells": [
  {
   "cell_type": "code",
   "execution_count": 1,
   "id": "19d1e491",
   "metadata": {},
   "outputs": [
    {
     "name": "stdout",
     "output_type": "stream",
     "text": [
      "Requirement already satisfied: requests in c:\\users\\yagoh\\appdata\\local\\programs\\python\\python310\\lib\\site-packages (2.28.1)\n",
      "Requirement already satisfied: urllib3<1.27,>=1.21.1 in c:\\users\\yagoh\\appdata\\local\\programs\\python\\python310\\lib\\site-packages (from requests) (1.26.11)\n",
      "Requirement already satisfied: idna<4,>=2.5 in c:\\users\\yagoh\\appdata\\local\\programs\\python\\python310\\lib\\site-packages (from requests) (3.3)\n",
      "Requirement already satisfied: certifi>=2017.4.17 in c:\\users\\yagoh\\appdata\\local\\programs\\python\\python310\\lib\\site-packages (from requests) (2022.6.15)\n",
      "Requirement already satisfied: charset-normalizer<3,>=2 in c:\\users\\yagoh\\appdata\\local\\programs\\python\\python310\\lib\\site-packages (from requests) (2.1.1)\n"
     ]
    }
   ],
   "source": [
    "!pip install requests"
   ]
  },
  {
   "cell_type": "code",
   "execution_count": 2,
   "id": "e94ee220",
   "metadata": {},
   "outputs": [],
   "source": [
    "import requests"
   ]
  },
  {
   "cell_type": "code",
   "execution_count": 5,
   "id": "9a936f32",
   "metadata": {},
   "outputs": [
    {
     "name": "stdout",
     "output_type": "stream",
     "text": [
      "200\n"
     ]
    }
   ],
   "source": [
    "url = 'https://api.exchangerate-api.com/v6/latest'\n",
    "\n",
    "req = requests.get(url)\n",
    "\n",
    "print(req.status_code)"
   ]
  },
  {
   "cell_type": "code",
   "execution_count": 6,
   "id": "491ce78a",
   "metadata": {},
   "outputs": [
    {
     "name": "stdout",
     "output_type": "stream",
     "text": [
      "{'result': 'success', 'provider': 'https://www.exchangerate-api.com', 'documentation': 'https://www.exchangerate-api.com/docs/free', 'terms_of_use': 'https://www.exchangerate-api.com/terms', 'time_last_update_unix': 1663027351, 'time_last_update_utc': 'Tue, 13 Sep 2022 00:02:31 +0000', 'time_next_update_unix': 1663114701, 'time_next_update_utc': 'Wed, 14 Sep 2022 00:18:21 +0000', 'time_eol_unix': 0, 'base_code': 'USD', 'rates': {'USD': 1, 'AED': 3.6725, 'AFN': 88.34859, 'ALL': 117.254671, 'AMD': 405.239797, 'ANG': 1.79, 'AOA': 431.370333, 'ARS': 141.484219, 'AUD': 1.452574, 'AWG': 1.79, 'AZN': 1.701245, 'BAM': 1.932665, 'BBD': 2, 'BDT': 94.228239, 'BGN': 1.931785, 'BHD': 0.376, 'BIF': 2030.723793, 'BMD': 1, 'BND': 1.396564, 'BOB': 6.907864, 'BRL': 5.126941, 'BSD': 1, 'BTN': 79.327817, 'BWP': 12.934379, 'BYN': 2.55181, 'BZD': 2, 'CAD': 1.298456, 'CDF': 2007.421061, 'CHF': 0.953665, 'CLP': 905.759082, 'CNY': 6.91962, 'COP': 4367.785606, 'CRC': 652.983408, 'CUP': 24, 'CVE': 108.959005, 'CZK': 24.248454, 'DJF': 177.721, 'DKK': 7.372018, 'DOP': 53.239981, 'DZD': 140.839046, 'EGP': 19.320566, 'ERN': 15, 'ETB': 52.652026, 'EUR': 0.98816, 'FJD': 2.228331, 'FKP': 0.856912, 'FOK': 7.372018, 'GBP': 0.856931, 'GEL': 2.832632, 'GGP': 0.856912, 'GHS': 10.359616, 'GIP': 0.856912, 'GMD': 55.743827, 'GNF': 8645.360779, 'GTQ': 7.741859, 'GYD': 209.441414, 'HKD': 7.851916, 'HNL': 24.543457, 'HRK': 7.44526, 'HTG': 120.023492, 'HUF': 392.135346, 'IDR': 14835.442367, 'ILS': 3.381423, 'IMP': 0.856912, 'INR': 79.328901, 'IQD': 1461.262578, 'IRR': 41903.93215, 'ISK': 138.531842, 'JEP': 0.856912, 'JMD': 151.612607, 'JOD': 0.709, 'JPY': 142.552194, 'KES': 120.692243, 'KGS': 82.948526, 'KHR': 4120.405917, 'KID': 1.452563, 'KMF': 486.140811, 'KRW': 1374.959467, 'KWD': 0.29963, 'KYD': 0.833333, 'KZT': 473.079899, 'LAK': 17848.376212, 'LBP': 1507.5, 'LKR': 353.846862, 'LRD': 153.992864, 'LSL': 17.108715, 'LYD': 4.959788, 'MAD': 10.688744, 'MDL': 19.359202, 'MGA': 4115.527817, 'MKD': 61.458857, 'MMK': 2738.287578, 'MNT': 3219.328658, 'MOP': 8.087434, 'MRU': 37.797682, 'MUR': 44.224435, 'MVR': 15.391001, 'MWK': 1036.108152, 'MXN': 19.820188, 'MYR': 4.491, 'MZN': 64.471066, 'NAD': 17.108715, 'NGN': 424.490872, 'NIO': 35.922816, 'NOK': 9.844494, 'NPR': 126.924507, 'NZD': 1.628203, 'OMR': 0.384497, 'PAB': 1, 'PEN': 3.874697, 'PGK': 3.525024, 'PHP': 56.764444, 'PKR': 230.247028, 'PLN': 4.63555, 'PYG': 6893.119007, 'QAR': 3.64, 'RON': 4.842291, 'RSD': 115.835638, 'RUB': 60.347896, 'RWF': 1074.069281, 'SAR': 3.75, 'SBD': 8.006455, 'SCR': 13.022766, 'SDG': 564.312151, 'SEK': 10.491775, 'SGD': 1.396574, 'SHP': 0.856912, 'SLE': 14.335087, 'SLL': 14335.087214, 'SOS': 569.114115, 'SRD': 26.054512, 'SSP': 650.396462, 'STN': 24.209818, 'SYP': 2514.833394, 'SZL': 17.108715, 'THB': 36.321322, 'TJS': 10.25793, 'TMT': 3.499915, 'TND': 2.929948, 'TOP': 2.362038, 'TRY': 18.229469, 'TTD': 6.751769, 'TVD': 1.452563, 'TWD': 30.781881, 'TZS': 2328.719879, 'UAH': 36.869249, 'UGX': 3807.191927, 'UYU': 40.985459, 'UZS': 10953.299366, 'VES': 7.9763, 'VND': 23507.692297, 'VUV': 117.201744, 'WST': 2.72103, 'XAF': 648.187748, 'XCD': 2.7, 'XDR': 0.761572, 'XOF': 648.187748, 'XPF': 117.918614, 'YER': 250.500782, 'ZAR': 17.10883, 'ZMW': 15.521501, 'ZWL': 589.545343}}\n"
     ]
    }
   ],
   "source": [
    "dados = req.json()\n",
    "print(dados)"
   ]
  },
  {
   "cell_type": "code",
   "execution_count": 8,
   "id": "fe3c9872",
   "metadata": {},
   "outputs": [
    {
     "name": "stdout",
     "output_type": "stream",
     "text": [
      "Informe o valor em reais a ser convertido:\n",
      "150\n",
      "R$150.00 em dólar valem US$29.26\n"
     ]
    }
   ],
   "source": [
    "valor_reais = float(input('Informe o valor em reais a ser convertido:\\n'))\n",
    "cotacao = dados['rates']['BRL']\n",
    "print(f'R${valor_reais:.2f} em dólar valem US${valor_reais/cotacao:.2f}')"
   ]
  }
 ],
 "metadata": {
  "kernelspec": {
   "display_name": "Python 3 (ipykernel)",
   "language": "python",
   "name": "python3"
  },
  "language_info": {
   "codemirror_mode": {
    "name": "ipython",
    "version": 3
   },
   "file_extension": ".py",
   "mimetype": "text/x-python",
   "name": "python",
   "nbconvert_exporter": "python",
   "pygments_lexer": "ipython3",
   "version": "3.10.5"
  }
 },
 "nbformat": 4,
 "nbformat_minor": 5
}
