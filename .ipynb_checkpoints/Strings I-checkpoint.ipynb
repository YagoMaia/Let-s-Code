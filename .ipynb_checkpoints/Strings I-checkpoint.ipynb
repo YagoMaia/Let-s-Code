{
 "cells": [
  {
   "cell_type": "code",
   "execution_count": 1,
   "id": "63019b7d",
   "metadata": {},
   "outputs": [
    {
     "name": "stdout",
     "output_type": "stream",
     "text": [
      "Google\n"
     ]
    }
   ],
   "source": [
    "empresa = \"Google\"\n",
    "print(empresa)"
   ]
  },
  {
   "cell_type": "code",
   "execution_count": 2,
   "id": "6fffd681",
   "metadata": {},
   "outputs": [
    {
     "name": "stdout",
     "output_type": "stream",
     "text": [
      "Google\n"
     ]
    }
   ],
   "source": [
    "empresa = 'Google'\n",
    "print(empresa)"
   ]
  },
  {
   "cell_type": "code",
   "execution_count": 3,
   "id": "7181ebe2",
   "metadata": {},
   "outputs": [
    {
     "ename": "SyntaxError",
     "evalue": "unterminated string literal (detected at line 1) (2163815922.py, line 1)",
     "output_type": "error",
     "traceback": [
      "\u001b[1;36m  Input \u001b[1;32mIn [3]\u001b[1;36m\u001b[0m\n\u001b[1;33m    empresa = 'Let's Code'\u001b[0m\n\u001b[1;37m                         ^\u001b[0m\n\u001b[1;31mSyntaxError\u001b[0m\u001b[1;31m:\u001b[0m unterminated string literal (detected at line 1)\n"
     ]
    }
   ],
   "source": [
    "empresa = 'Let's Code'"
   ]
  },
  {
   "cell_type": "code",
   "execution_count": 4,
   "id": "817b645e",
   "metadata": {},
   "outputs": [
    {
     "name": "stdout",
     "output_type": "stream",
     "text": [
      "Let's Code\n"
     ]
    }
   ],
   "source": [
    "empresa = \"Let's Code\"\n",
    "print(empresa)"
   ]
  },
  {
   "cell_type": "code",
   "execution_count": 6,
   "id": "69dbeb21",
   "metadata": {},
   "outputs": [
    {
     "name": "stdout",
     "output_type": "stream",
     "text": [
      "O professor Pietro da Let's Code disse: \"Hoje a pizza é por minha conta\"\n"
     ]
    }
   ],
   "source": [
    "frase = \"O professor Pietro da Let's Code disse: \\\"Hoje a pizza é por minha conta\\\"\" #Cancelador de delimitador\n",
    "print(frase)"
   ]
  },
  {
   "cell_type": "code",
   "execution_count": 8,
   "id": "d106c9c1",
   "metadata": {},
   "outputs": [
    {
     "name": "stdout",
     "output_type": "stream",
     "text": [
      "G\n"
     ]
    }
   ],
   "source": [
    "empresa = 'Google'\n",
    "print(empresa[0])"
   ]
  },
  {
   "cell_type": "code",
   "execution_count": 9,
   "id": "b5f82202",
   "metadata": {},
   "outputs": [
    {
     "name": "stdout",
     "output_type": "stream",
     "text": [
      "Goo\n"
     ]
    }
   ],
   "source": [
    "print(empresa[:3])"
   ]
  },
  {
   "cell_type": "code",
   "execution_count": 11,
   "id": "893bddd3",
   "metadata": {},
   "outputs": [
    {
     "name": "stdout",
     "output_type": "stream",
     "text": [
      "['São Paulo', 'Belo Horizonte', 'Rio de Janeiro', 'Brasília']\n"
     ]
    }
   ],
   "source": [
    "nomes_cidades = \"São Paulo, Belo Horizonte, Rio de Janeiro, Brasília\"\n",
    "nomes_cidades = nomes_cidades.split(\", \")\n",
    "print(nomes_cidades)"
   ]
  },
  {
   "cell_type": "code",
   "execution_count": 14,
   "id": "6870a114",
   "metadata": {},
   "outputs": [
    {
     "name": "stdout",
     "output_type": "stream",
     "text": [
      "                 MENU PRINCIPAL           \n",
      "MENU PRINCIPAL\n"
     ]
    }
   ],
   "source": [
    "cabecalho = \"                 MENU PRINCIPAL           \"\n",
    "print(cabecalho)\n",
    "print(cabecalho.strip())"
   ]
  },
  {
   "cell_type": "code",
   "execution_count": 17,
   "id": "5783b260",
   "metadata": {},
   "outputs": [
    {
     "name": "stdout",
     "output_type": "stream",
     "text": [
      "Rio De Janeiro\n",
      "Rio de janeiro\n",
      "RIO DE JANEIRO\n",
      "rio de janeiro\n"
     ]
    }
   ],
   "source": [
    "nome_cidade = \"rIo dE jAnEiRo\"\n",
    "print(nome_cidade.title()) #Rio De Janeiro\n",
    "print(nome_cidade.capitalize()) #Rio de janeiro\n",
    "print(nome_cidade.upper()) #RIO DE JANEIRO\n",
    "print(nome_cidade.lower()) #rio de janeiro"
   ]
  },
  {
   "cell_type": "code",
   "execution_count": 20,
   "id": "036be1d1",
   "metadata": {},
   "outputs": [
    {
     "name": "stdout",
     "output_type": "stream",
     "text": [
      "Que cidade do Brasil é conhecida como cidade maravilhosa? rIO DE Janeiro\n",
      "Parabéns, você acertou!\n"
     ]
    }
   ],
   "source": [
    "nome_cidade = input(\"Que cidade do Brasil é conhecida como cidade maravilhosa? \").strip().lower()\n",
    "while nome_cidade != \"rio de janeiro\":\n",
    "    print(\"Cidade errada, por favor tente novamente.\")\n",
    "    nome_cidade = input(\"Que cidade do Brasil é conhecida como cidade maravilhosa? \")\n",
    "print(\"Parabéns, você acertou!\")"
   ]
  },
  {
   "cell_type": "code",
   "execution_count": 22,
   "id": "56932aee",
   "metadata": {},
   "outputs": [
    {
     "name": "stdout",
     "output_type": "stream",
     "text": [
      "True\n"
     ]
    }
   ],
   "source": [
    "mensagem = \"Você viu o que o Pietro disse na sala ontem?\"\n",
    "fui_citado = \"Pietro\" in mensagem #Recebe um valor booleano --> Analisa se Pietro está na string mensagem\n",
    "print(fui_citado)"
   ]
  }
 ],
 "metadata": {
  "kernelspec": {
   "display_name": "Python 3 (ipykernel)",
   "language": "python",
   "name": "python3"
  },
  "language_info": {
   "codemirror_mode": {
    "name": "ipython",
    "version": 3
   },
   "file_extension": ".py",
   "mimetype": "text/x-python",
   "name": "python",
   "nbconvert_exporter": "python",
   "pygments_lexer": "ipython3",
   "version": "3.10.5"
  }
 },
 "nbformat": 4,
 "nbformat_minor": 5
}
