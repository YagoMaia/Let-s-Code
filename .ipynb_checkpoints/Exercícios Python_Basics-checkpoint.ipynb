{
 "cells": [
  {
   "cell_type": "markdown",
   "id": "5fe4680a",
   "metadata": {},
   "source": [
    "# Modulo 1"
   ]
  },
  {
   "cell_type": "markdown",
   "id": "86c68978",
   "metadata": {},
   "source": [
    "Faça um programa que peça um valor monetário e diminua-o em 15%. Seu\n",
    "programa deve imprimir a mensagem “O novo valor é [valor]”.\n"
   ]
  },
  {
   "cell_type": "code",
   "execution_count": 2,
   "id": "dad2001e",
   "metadata": {},
   "outputs": [
    {
     "name": "stdout",
     "output_type": "stream",
     "text": [
      "Digite um valor monetário: 1500\n",
      "O valor digitado ,1500, recebeu uma redução de 15% e foi reajustado para 1275.0\n"
     ]
    }
   ],
   "source": [
    "valor = int(input(\"Digite um valor monetário: \"))\n",
    "novo_valor = 0.85*valor\n",
    "print(f\"O valor digitado ,{valor}, recebeu uma redução de 15% e foi reajustado para {novo_valor}\")"
   ]
  },
  {
   "cell_type": "markdown",
   "id": "a96ab3cc",
   "metadata": {},
   "source": [
    "## 2\n",
    "Faça um programa que leia a validade das informações:\n",
    "\n",
    "- a. Idade: entre 0 e 150;\n",
    "- b. Salário: maior que 0;\n",
    "- c. Sexo: M, F ou Outro;\n",
    "\n",
    "O programa deve imprimir uma mensagem de erro para cada informação inválida.\n"
   ]
  },
  {
   "cell_type": "code",
   "execution_count": null,
   "id": "9b353c59",
   "metadata": {},
   "outputs": [],
   "source": [
    "idade = int(input(\"Digite sua idade: \"))\n",
    "while idade >= 150 or 0 >= idade: \n",
    "    print(\"Idade Inválida, Por favor digite uma idade consistente!\")\n",
    "    idade = int(input(\"Digite sua idade: \"))\n",
    "salario = float(input(\"Digite o valor do seu salário: \"))\n",
    "while salario <= 0:\n",
    "    print(\"Salário inválido, Por favor digite um salário válido\")\n",
    "    salario = float(input(\"Digite o valor do seu salário: \"))\n",
    "sexo = input(\"Digite seu sexo: [M, F, Outro]\").strip().upper()[0]\n",
    "while \"M\" and \"F\" and \"O\" not in sexo:\n",
    "    print(\"Sexo inválido, por favor digite um sexo válido\")\n",
    "    sexo = input(\"Digite seu sexo: [M, F, Outro]\").strip().upper()[0]\n",
    "print(f\"Você tem {idade} anos, com um salário de {salario} e é do sexo {sexo}\")"
   ]
  }
 ],
 "metadata": {
  "kernelspec": {
   "display_name": "Python 3 (ipykernel)",
   "language": "python",
   "name": "python3"
  },
  "language_info": {
   "codemirror_mode": {
    "name": "ipython",
    "version": 3
   },
   "file_extension": ".py",
   "mimetype": "text/x-python",
   "name": "python",
   "nbconvert_exporter": "python",
   "pygments_lexer": "ipython3",
   "version": "3.10.5"
  }
 },
 "nbformat": 4,
 "nbformat_minor": 5
}
