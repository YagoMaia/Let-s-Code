{
 "cells": [
  {
   "cell_type": "code",
   "execution_count": 4,
   "id": "7bedb2a2",
   "metadata": {},
   "outputs": [],
   "source": [
    "#Pares chaves e valores\n",
    "\n",
    "dados_cidades = {\n",
    "    'nome': 'São Paulo',\n",
    "    'estado': 'São Paulo',\n",
    "    'area_km2': 1521,\n",
    "    'populacao_milhoes': 12.18\n",
    "}\n"
   ]
  },
  {
   "cell_type": "code",
   "execution_count": null,
   "id": "5beb3438",
   "metadata": {},
   "outputs": [],
   "source": [
    "print(type(dados_cidades))\n",
    "print(dados_cidades)"
   ]
  },
  {
   "cell_type": "code",
   "execution_count": 3,
   "id": "85e528d1",
   "metadata": {},
   "outputs": [],
   "source": [
    "dados_cidades['pais'] = \"Brasil\""
   ]
  },
  {
   "cell_type": "code",
   "execution_count": 4,
   "id": "9519a8af",
   "metadata": {},
   "outputs": [
    {
     "name": "stdout",
     "output_type": "stream",
     "text": [
      "{'nome': 'São Paulo', 'estado': 'São Paulo', 'area_km2': 1521, 'populacao_milhoes': 12.18, 'pais': 'Brasil'}\n"
     ]
    }
   ],
   "source": [
    "print(dados_cidades)"
   ]
  },
  {
   "cell_type": "code",
   "execution_count": 5,
   "id": "ca84f297",
   "metadata": {},
   "outputs": [
    {
     "name": "stdout",
     "output_type": "stream",
     "text": [
      "{'nome': 'São Paulo', 'estado': 'São Paulo', 'area_km2': 1500, 'populacao_milhoes': 12.18, 'pais': 'Brasil'}\n"
     ]
    }
   ],
   "source": [
    "dados_cidades['area_km2'] = 1500\n",
    "print(dados_cidades)"
   ]
  },
  {
   "cell_type": "code",
   "execution_count": 7,
   "id": "45940428",
   "metadata": {},
   "outputs": [],
   "source": [
    "dados_cidades2 = dados_cidades"
   ]
  },
  {
   "cell_type": "code",
   "execution_count": 8,
   "id": "dd3d44ee",
   "metadata": {},
   "outputs": [],
   "source": [
    "dados_cidades2['nome'] = 'Santos' #Nesse caso vai alterar tanto no dados_ cidades2 quanto no dados_cidades"
   ]
  },
  {
   "cell_type": "code",
   "execution_count": 9,
   "id": "b007585b",
   "metadata": {},
   "outputs": [
    {
     "name": "stdout",
     "output_type": "stream",
     "text": [
      "{'nome': 'Santos', 'estado': 'São Paulo', 'area_km2': 1500, 'populacao_milhoes': 12.18, 'pais': 'Brasil'}\n",
      "{'nome': 'Santos', 'estado': 'São Paulo', 'area_km2': 1500, 'populacao_milhoes': 12.18, 'pais': 'Brasil'}\n"
     ]
    }
   ],
   "source": [
    "print(dados_cidades)\n",
    "print(dados_cidades2)"
   ]
  },
  {
   "cell_type": "code",
   "execution_count": 10,
   "id": "5311ff46",
   "metadata": {},
   "outputs": [
    {
     "name": "stdout",
     "output_type": "stream",
     "text": [
      "{'nome': 'Santos', 'estado': 'São Paulo', 'area_km2': 1500, 'populacao_milhoes': 12.18, 'pais': 'Brasil'}\n"
     ]
    }
   ],
   "source": [
    "dados_cidades3 = dados_cidades.copy()\n",
    "print(dados_cidades3)"
   ]
  },
  {
   "cell_type": "code",
   "execution_count": 11,
   "id": "6be1175c",
   "metadata": {},
   "outputs": [],
   "source": [
    "dados_cidades3['estado'] = 'Rio Grande do Sul'"
   ]
  },
  {
   "cell_type": "code",
   "execution_count": 13,
   "id": "4fb6b888",
   "metadata": {},
   "outputs": [
    {
     "name": "stdout",
     "output_type": "stream",
     "text": [
      "{'nome': 'Santos', 'estado': 'Rio Grande do Sul', 'area_km2': 1500, 'populacao_milhoes': 12.18, 'pais': 'Brasil'}\n",
      "{'nome': 'Santos', 'estado': 'São Paulo', 'area_km2': 1500, 'populacao_milhoes': 12.18, 'pais': 'Brasil'}\n"
     ]
    }
   ],
   "source": [
    "print(dados_cidades3)\n",
    "print(dados_cidades)"
   ]
  },
  {
   "cell_type": "code",
   "execution_count": 10,
   "id": "771791b6",
   "metadata": {},
   "outputs": [
    {
     "name": "stdout",
     "output_type": "stream",
     "text": [
      "{'nome': 'São Paulo', 'estado': 'São Paulo', 'area_km2': 1521, 'populacao_milhoes': 12.18, 'populacao_milhos': 15, 'fundacao': '25/01/1554'}\n"
     ]
    },
    {
     "ename": "ValueError",
     "evalue": "too many values to unpack (expected 2)",
     "output_type": "error",
     "traceback": [
      "\u001b[1;31m---------------------------------------------------------------------------\u001b[0m",
      "\u001b[1;31mValueError\u001b[0m                                Traceback (most recent call last)",
      "Input \u001b[1;32mIn [10]\u001b[0m, in \u001b[0;36m<cell line: 7>\u001b[1;34m()\u001b[0m\n\u001b[0;32m      5\u001b[0m dados_cidades\u001b[38;5;241m.\u001b[39mupdate(novos_dados) \u001b[38;5;66;03m#Seria a concatenação de dicionários\u001b[39;00m\n\u001b[0;32m      6\u001b[0m \u001b[38;5;28mprint\u001b[39m(dados_cidades)\n\u001b[1;32m----> 7\u001b[0m \u001b[38;5;28;01mfor\u001b[39;00m key, value \u001b[38;5;129;01min\u001b[39;00m dados_cidades:\n\u001b[0;32m      8\u001b[0m     \u001b[38;5;28mprint\u001b[39m(\u001b[38;5;124mf\u001b[39m\u001b[38;5;124m'\u001b[39m\u001b[38;5;132;01m{\u001b[39;00mkeys\u001b[38;5;132;01m}\u001b[39;00m\u001b[38;5;124m - \u001b[39m\u001b[38;5;132;01m{\u001b[39;00mvalues\u001b[38;5;132;01m}\u001b[39;00m\u001b[38;5;124m'\u001b[39m)\n",
      "\u001b[1;31mValueError\u001b[0m: too many values to unpack (expected 2)"
     ]
    }
   ],
   "source": [
    "novos_dados = {\n",
    "    'populacao_milhos': 15,\n",
    "    'fundacao': '25/01/1554'\n",
    "}\n",
    "dados_cidades.update(novos_dados) #Seria a concatenação de dicionários\n",
    "print(dados_cidades)\n",
    "for keys, values in dados_cidades:\n",
    "    print(f'{keys} - {values}')"
   ]
  },
  {
   "cell_type": "code",
   "execution_count": 16,
   "id": "14aa8bcf",
   "metadata": {},
   "outputs": [
    {
     "name": "stdout",
     "output_type": "stream",
     "text": [
      "None\n"
     ]
    }
   ],
   "source": [
    "print(dados_cidades.get('prefeito'))"
   ]
  },
  {
   "cell_type": "code",
   "execution_count": 18,
   "id": "ce36a5fe",
   "metadata": {},
   "outputs": [
    {
     "name": "stdout",
     "output_type": "stream",
     "text": [
      "dict_keys(['nome', 'estado', 'area_km2', 'populacao_milhoes', 'pais', 'populacao_milhos', 'fundacao'])\n",
      "----------\n",
      "dict_values(['Santos', 'São Paulo', 1500, 12.18, 'Brasil', 15, '25/01/1554'])\n",
      "----------\n",
      "dict_items([('nome', 'Santos'), ('estado', 'São Paulo'), ('area_km2', 1500), ('populacao_milhoes', 12.18), ('pais', 'Brasil'), ('populacao_milhos', 15), ('fundacao', '25/01/1554')])\n",
      "----------\n"
     ]
    }
   ],
   "source": [
    "print(dados_cidades.keys()) #Retorna uma lista de chaves de um dicionário\n",
    "print('-'*10)\n",
    "print(dados_cidades.values()) #Retorna uma lista de valores de um dicionário\n",
    "print('-'*10)\n",
    "print(dados_cidades.items()) #Retorna uma lista que tem como elementos uma tupla com um par --> Chave - Valor\n",
    "print('-'*10)"
   ]
  }
 ],
 "metadata": {
  "kernelspec": {
   "display_name": "Python 3 (ipykernel)",
   "language": "python",
   "name": "python3"
  },
  "language_info": {
   "codemirror_mode": {
    "name": "ipython",
    "version": 3
   },
   "file_extension": ".py",
   "mimetype": "text/x-python",
   "name": "python",
   "nbconvert_exporter": "python",
   "pygments_lexer": "ipython3",
   "version": "3.10.5"
  }
 },
 "nbformat": 4,
 "nbformat_minor": 5
}
