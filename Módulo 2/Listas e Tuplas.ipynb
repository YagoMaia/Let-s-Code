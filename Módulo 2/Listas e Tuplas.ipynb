{
 "cells": [
  {
   "cell_type": "code",
   "execution_count": 1,
   "id": "0751c01c",
   "metadata": {},
   "outputs": [
    {
     "name": "stdout",
     "output_type": "stream",
     "text": [
      "['Brasil', 'Argentina', 'China', 'Canadá', 'Japão']\n"
     ]
    }
   ],
   "source": [
    "nomes_paises = [\"Brasil\", \"Argentina\", \"China\", \"Canadá\", \"Japão\"]\n",
    "print(nomes_paises)"
   ]
  },
  {
   "cell_type": "code",
   "execution_count": 9,
   "id": "4c8a9516",
   "metadata": {
    "scrolled": false
   },
   "outputs": [
    {
     "name": "stdout",
     "output_type": "stream",
     "text": [
      "O tamanho da lista é 5\n",
      "Como o Japão é o ultimo país da lista de cinco países sua posição é 4º, Japão\n",
      "Como ele é o último, daria pra usar o indice negativo Japão\n"
     ]
    }
   ],
   "source": [
    "print(f\"O tamanho da lista é {len(nomes_paises)}\")\n",
    "print(f\"Como o Japão é o ultimo país da lista de cinco países sua posição é 4º, {nomes_paises[4]}\")\n",
    "print(f\"Como ele é o último, daria pra usar o indice negativo, {nomes_paises[-1]}\")"
   ]
  },
  {
   "cell_type": "markdown",
   "id": "1fd5533a",
   "metadata": {},
   "source": [
    "# Hello World"
   ]
  },
  {
   "cell_type": "code",
   "execution_count": 11,
   "id": "9abbc529",
   "metadata": {},
   "outputs": [],
   "source": [
    "nomes_paises[4] = \"Colombia\""
   ]
  },
  {
   "cell_type": "code",
   "execution_count": 13,
   "id": "6d5a9934",
   "metadata": {},
   "outputs": [
    {
     "name": "stdout",
     "output_type": "stream",
     "text": [
      "['Brasil', 'Argentina', 'China', 'Canadá', 'Colombia']\n",
      "País: Colombia\n"
     ]
    }
   ],
   "source": [
    "print(nomes_paises)\n",
    "print(\"País:\", nomes_paises[4])"
   ]
  },
  {
   "cell_type": "code",
   "execution_count": null,
   "id": "25b708af",
   "metadata": {},
   "outputs": [],
   "source": [
    "#nomes_paises[5] = \"Chile\" Como não tem esse índice, dará um erro"
   ]
  },
  {
   "cell_type": "code",
   "execution_count": 18,
   "id": "ebb01c1d",
   "metadata": {},
   "outputs": [
    {
     "name": "stdout",
     "output_type": "stream",
     "text": [
      "['China', 'Canadá', 'Colombia']\n",
      "['Argentina', 'China']\n",
      "['Argentina', 'China', 'Canadá']\n",
      "['Brasil', 'Argentina', 'China', 'Canadá']\n",
      "['Brasil', 'Argentina', 'China', 'Canadá', 'Colombia']\n"
     ]
    }
   ],
   "source": [
    "print(nomes_paises[2::])\n",
    "print(nomes_paises[1:3])\n",
    "print(nomes_paises[1:-1])\n",
    "print(nomes_paises[:-1])\n",
    "print(nomes_paises[:])"
   ]
  },
  {
   "cell_type": "code",
   "execution_count": 22,
   "id": "c1678928",
   "metadata": {},
   "outputs": [
    {
     "name": "stdout",
     "output_type": "stream",
     "text": [
      "['Argentina', 'Canadá']\n",
      "['Colombia', 'Canadá', 'China', 'Argentina', 'Brasil']\n"
     ]
    }
   ],
   "source": [
    "print(nomes_paises[1:5:2]) #Indice inicial, indice final, espaço\n",
    "print(nomes_paises[::-1])"
   ]
  },
  {
   "cell_type": "code",
   "execution_count": 23,
   "id": "b8c067c1",
   "metadata": {},
   "outputs": [
    {
     "name": "stdout",
     "output_type": "stream",
     "text": [
      "True\n"
     ]
    }
   ],
   "source": [
    "print(\"Brasil\" in nomes_paises) #Resulta em um boolean"
   ]
  },
  {
   "cell_type": "code",
   "execution_count": 25,
   "id": "e40d6f59",
   "metadata": {},
   "outputs": [
    {
     "name": "stdout",
     "output_type": "stream",
     "text": [
      "False\n"
     ]
    }
   ],
   "source": [
    "print(\"Canadá\" not in nomes_paises)"
   ]
  },
  {
   "cell_type": "code",
   "execution_count": 27,
   "id": "a3abe2d4",
   "metadata": {},
   "outputs": [],
   "source": [
    "lista_capitais = []"
   ]
  },
  {
   "cell_type": "code",
   "execution_count": 31,
   "id": "9eed352e",
   "metadata": {},
   "outputs": [
    {
     "name": "stdout",
     "output_type": "stream",
     "text": [
      "['Rio de Janeiro']\n"
     ]
    }
   ],
   "source": [
    "lista_capitais.append(\"Rio de Janeiro\") #Adiciona valores na lista"
   ]
  },
  {
   "cell_type": "code",
   "execution_count": 32,
   "id": "c8afd2e9",
   "metadata": {},
   "outputs": [],
   "source": [
    "lista_capitais.append(\"Buenos Aires\")\n",
    "lista_capitais.append(\"Pequin\")\n",
    "lista_capitais.append(\"Pequin\")\n",
    "lista_capitais.append(\"Bogotá\")"
   ]
  },
  {
   "cell_type": "code",
   "execution_count": 33,
   "id": "283ec65f",
   "metadata": {},
   "outputs": [
    {
     "name": "stdout",
     "output_type": "stream",
     "text": [
      "['Rio de Janeiro', 'Buenos Aires', 'Pequin', 'Pequin', 'Bogotá']\n"
     ]
    }
   ],
   "source": [
    "print(lista_capitais)"
   ]
  },
  {
   "cell_type": "code",
   "execution_count": 34,
   "id": "4c2b84bf",
   "metadata": {},
   "outputs": [],
   "source": [
    "lista_capitais.insert(2, \"Paris\") #Nesse caso seleciona o indice que será colocado"
   ]
  },
  {
   "cell_type": "code",
   "execution_count": 35,
   "id": "cb458e03",
   "metadata": {},
   "outputs": [
    {
     "name": "stdout",
     "output_type": "stream",
     "text": [
      "['Rio de Janeiro', 'Buenos Aires', 'Paris', 'Pequin', 'Pequin', 'Bogotá']\n"
     ]
    }
   ],
   "source": [
    "print(lista_capitais)"
   ]
  },
  {
   "cell_type": "code",
   "execution_count": 36,
   "id": "c751112a",
   "metadata": {},
   "outputs": [],
   "source": [
    "lista_capitais.remove(\"Buenos Aires\")"
   ]
  },
  {
   "cell_type": "code",
   "execution_count": 37,
   "id": "f1a90da3",
   "metadata": {},
   "outputs": [
    {
     "name": "stdout",
     "output_type": "stream",
     "text": [
      "['Rio de Janeiro', 'Paris', 'Pequin', 'Pequin', 'Bogotá']\n"
     ]
    }
   ],
   "source": [
    "print(lista_capitais)"
   ]
  },
  {
   "cell_type": "code",
   "execution_count": 38,
   "id": "71d1491e",
   "metadata": {},
   "outputs": [
    {
     "name": "stdout",
     "output_type": "stream",
     "text": [
      "['Rio de Janeiro', 'Paris', 'Pequin', 'Bogotá']\n",
      "Pequin\n"
     ]
    }
   ],
   "source": [
    "removido = lista_capitais.pop(2)\n",
    "print(lista_capitais)\n",
    "print(removido)"
   ]
  },
  {
   "cell_type": "code",
   "execution_count": 40,
   "id": "a0c90dfe",
   "metadata": {},
   "outputs": [
    {
     "name": "stdout",
     "output_type": "stream",
     "text": [
      "('Brasil', 'China', 'Canadá', 'Japão', 'Argentina')\n",
      "<class 'tuple'>\n"
     ]
    }
   ],
   "source": [
    "nomes_paises = (\"Brasil\", \"China\", \"Canadá\", \"Japão\", \"Argentina\")\n",
    "print(nomes_paises)\n",
    "print(type(nomes_paises))"
   ]
  },
  {
   "cell_type": "code",
   "execution_count": 41,
   "id": "5cd62c2d",
   "metadata": {},
   "outputs": [
    {
     "name": "stdout",
     "output_type": "stream",
     "text": [
      "('São Paulo',) <class 'tuple'>\n"
     ]
    }
   ],
   "source": [
    "nome_estado = \"São Paulo\", #Considera que é uma tupla de 1 elemento\n",
    "print(nome_estado, type(nome_estado))"
   ]
  },
  {
   "cell_type": "code",
   "execution_count": 42,
   "id": "e56c63d6",
   "metadata": {},
   "outputs": [],
   "source": [
    "b, a, c, ca, j = nomes_paises #Unpacking --> Cada variavel vai receber um elemento da lista --> Apenas pra lista"
   ]
  },
  {
   "cell_type": "code",
   "execution_count": 43,
   "id": "21ac54e3",
   "metadata": {},
   "outputs": [
    {
     "name": "stdout",
     "output_type": "stream",
     "text": [
      "Brasil China Canadá Japão Argentina\n"
     ]
    }
   ],
   "source": [
    "print(b, a, c, ca, j)"
   ]
  },
  {
   "cell_type": "code",
   "execution_count": 44,
   "id": "3e5e8065",
   "metadata": {},
   "outputs": [
    {
     "name": "stdout",
     "output_type": "stream",
     "text": [
      "Brasil China Canadá Japão Argentina\n"
     ]
    }
   ],
   "source": [
    "print(*nomes_paises) #imprimindo todas as variaveis desenpacotadas"
   ]
  }
 ],
 "metadata": {
  "kernelspec": {
   "display_name": "Python 3 (ipykernel)",
   "language": "python",
   "name": "python3"
  },
  "language_info": {
   "codemirror_mode": {
    "name": "ipython",
    "version": 3
   },
   "file_extension": ".py",
   "mimetype": "text/x-python",
   "name": "python",
   "nbconvert_exporter": "python",
   "pygments_lexer": "ipython3",
   "version": "3.10.5"
  }
 },
 "nbformat": 4,
 "nbformat_minor": 5
}
