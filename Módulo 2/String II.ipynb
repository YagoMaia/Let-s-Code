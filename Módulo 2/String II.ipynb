{
 "cells": [
  {
   "cell_type": "code",
   "execution_count": 2,
   "id": "b63d2545",
   "metadata": {},
   "outputs": [
    {
     "name": "stdout",
     "output_type": "stream",
     "text": [
      "Olá, Yago\n"
     ]
    }
   ],
   "source": [
    "cumprimento = \"Olá, \"\n",
    "nome = \"Yago\"\n",
    "print(cumprimento + nome) #Concatenação"
   ]
  },
  {
   "cell_type": "code",
   "execution_count": 3,
   "id": "683fc780",
   "metadata": {},
   "outputs": [
    {
     "name": "stdout",
     "output_type": "stream",
     "text": [
      "YagoYagoYagoYagoYago\n"
     ]
    }
   ],
   "source": [
    "print(nome * 5)"
   ]
  },
  {
   "cell_type": "code",
   "execution_count": 12,
   "id": "91d466cd",
   "metadata": {},
   "outputs": [
    {
     "name": "stdout",
     "output_type": "stream",
     "text": [
      "Yago tem 18 anos e 0 filhos\n",
      "Yago tem 18 anos e 0 filhos\n"
     ]
    }
   ],
   "source": [
    "nome = \"Yago\"\n",
    "idade = 18\n",
    "n_filhos = 0\n",
    "print(f\"{nome} tem {idade} anos e {n_filhos} filhos\") #Uma maneira de fazer com fstrings\n",
    "print(\"{} tem {} anos e {} filhos\".format(nome, idade, n_filhos))#Outra maneira de fazer com o format"
   ]
  },
  {
   "cell_type": "code",
   "execution_count": 14,
   "id": "c3538845",
   "metadata": {},
   "outputs": [
    {
     "name": "stdout",
     "output_type": "stream",
     "text": [
      "O preço da galosina hoje é 3.48\n"
     ]
    }
   ],
   "source": [
    "preco_gasolina = 3.476\n",
    "print(f\"O preço da galosina hoje é {preco_gasolina:.2f}\")"
   ]
  }
 ],
 "metadata": {
  "kernelspec": {
   "display_name": "Python 3 (ipykernel)",
   "language": "python",
   "name": "python3"
  },
  "language_info": {
   "codemirror_mode": {
    "name": "ipython",
    "version": 3
   },
   "file_extension": ".py",
   "mimetype": "text/x-python",
   "name": "python",
   "nbconvert_exporter": "python",
   "pygments_lexer": "ipython3",
   "version": "3.10.5"
  }
 },
 "nbformat": 4,
 "nbformat_minor": 5
}
