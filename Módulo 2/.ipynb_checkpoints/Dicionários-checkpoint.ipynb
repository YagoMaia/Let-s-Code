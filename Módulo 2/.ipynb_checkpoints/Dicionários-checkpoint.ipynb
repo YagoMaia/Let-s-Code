{
 "cells": [
  {
   "cell_type": "code",
   "execution_count": 1,
   "id": "7bedb2a2",
   "metadata": {},
   "outputs": [
    {
     "name": "stdout",
     "output_type": "stream",
     "text": [
      "<class 'dict'>\n",
      "{'nome': 'São Paulo', 'estado': 'São Paulo', 'area_km2': 1521, 'populacao_milhoes': 12.18}\n"
     ]
    }
   ],
   "source": [
    "#Pares chaves e valores\n",
    "\n",
    "dados_cidades = {\n",
    "    'nome': 'São Paulo',\n",
    "    'estado': 'São Paulo',\n",
    "    'area_km2': 1521,\n",
    "    'populacao_milhoes': 12.18\n",
    "}\n"
   ]
  },
  {
   "cell_type": "code",
   "execution_count": null,
   "id": "5beb3438",
   "metadata": {},
   "outputs": [],
   "source": [
    "print(type(dados_cidades))\n",
    "print(dados_cidades)"
   ]
  },
  {
   "cell_type": "code",
   "execution_count": 3,
   "id": "85e528d1",
   "metadata": {},
   "outputs": [],
   "source": [
    "dados_cidades['pais'] = \"Brasil\""
   ]
  },
  {
   "cell_type": "code",
   "execution_count": 4,
   "id": "9519a8af",
   "metadata": {},
   "outputs": [
    {
     "name": "stdout",
     "output_type": "stream",
     "text": [
      "{'nome': 'São Paulo', 'estado': 'São Paulo', 'area_km2': 1521, 'populacao_milhoes': 12.18, 'pais': 'Brasil'}\n"
     ]
    }
   ],
   "source": [
    "print(dados_cidades)"
   ]
  },
  {
   "cell_type": "code",
   "execution_count": 5,
   "id": "ca84f297",
   "metadata": {},
   "outputs": [
    {
     "name": "stdout",
     "output_type": "stream",
     "text": [
      "{'nome': 'São Paulo', 'estado': 'São Paulo', 'area_km2': 1500, 'populacao_milhoes': 12.18, 'pais': 'Brasil'}\n"
     ]
    }
   ],
   "source": [
    "dados_cidades['area_km2'] = 1500\n",
    "print(dados_cidades)"
   ]
  },
  {
   "cell_type": "code",
   "execution_count": 7,
   "id": "45940428",
   "metadata": {},
   "outputs": [],
   "source": [
    "dados_cidades2 = dados_cidades"
   ]
  },
  {
   "cell_type": "code",
   "execution_count": 8,
   "id": "dd3d44ee",
   "metadata": {},
   "outputs": [],
   "source": [
    "dados_cidades2['nome'] = 'Santos' #Nesse caso vai alterar tanto no dados_ cidades2 quanto no dados_cidades"
   ]
  },
  {
   "cell_type": "code",
   "execution_count": 9,
   "id": "b007585b",
   "metadata": {},
   "outputs": [
    {
     "name": "stdout",
     "output_type": "stream",
     "text": [
      "{'nome': 'Santos', 'estado': 'São Paulo', 'area_km2': 1500, 'populacao_milhoes': 12.18, 'pais': 'Brasil'}\n",
      "{'nome': 'Santos', 'estado': 'São Paulo', 'area_km2': 1500, 'populacao_milhoes': 12.18, 'pais': 'Brasil'}\n"
     ]
    }
   ],
   "source": [
    "print(dados_cidades)\n",
    "print(dados_cidades2)"
   ]
  },
  {
   "cell_type": "code",
   "execution_count": 10,
   "id": "5311ff46",
   "metadata": {},
   "outputs": [
    {
     "name": "stdout",
     "output_type": "stream",
     "text": [
      "{'nome': 'Santos', 'estado': 'São Paulo', 'area_km2': 1500, 'populacao_milhoes': 12.18, 'pais': 'Brasil'}\n"
     ]
    }
   ],
   "source": [
    "dados_cidades3 = dados_cidades.copy()\n",
    "print(dados_cidades3)"
   ]
  },
  {
   "cell_type": "code",
   "execution_count": 11,
   "id": "6be1175c",
   "metadata": {},
   "outputs": [],
   "source": [
    "dados_cidades3['estado'] = 'Rio Grande do Sul'"
   ]
  },
  {
   "cell_type": "code",
   "execution_count": 13,
   "id": "4fb6b888",
   "metadata": {},
   "outputs": [
    {
     "name": "stdout",
     "output_type": "stream",
     "text": [
      "{'nome': 'Santos', 'estado': 'Rio Grande do Sul', 'area_km2': 1500, 'populacao_milhoes': 12.18, 'pais': 'Brasil'}\n",
      "{'nome': 'Santos', 'estado': 'São Paulo', 'area_km2': 1500, 'populacao_milhoes': 12.18, 'pais': 'Brasil'}\n"
     ]
    }
   ],
   "source": [
    "print(dados_cidades3)\n",
    "print(dados_cidades)"
   ]
  },
  {
   "cell_type": "code",
   "execution_count": 15,
   "id": "771791b6",
   "metadata": {},
   "outputs": [
    {
     "name": "stdout",
     "output_type": "stream",
     "text": [
      "{'nome': 'Santos', 'estado': 'São Paulo', 'area_km2': 1500, 'populacao_milhoes': 12.18, 'pais': 'Brasil', 'populacao_milhos': 15, 'fundacao': '25/01/1554'}\n"
     ]
    }
   ],
   "source": [
    "novos_dados = {\n",
    "    'populacao_milhos': 15,\n",
    "    'fundacao': '25/01/1554'\n",
    "}\n",
    "dados_cidades.update(novos_dados) #Seria a concatenação de dicionários\n",
    "print(dados_cidades)"
   ]
  },
  {
   "cell_type": "code",
   "execution_count": 16,
   "id": "14aa8bcf",
   "metadata": {},
   "outputs": [
    {
     "name": "stdout",
     "output_type": "stream",
     "text": [
      "None\n"
     ]
    }
   ],
   "source": [
    "print(dados_cidades.get('prefeito'))"
   ]
  },
  {
   "cell_type": "code",
   "execution_count": 18,
   "id": "ce36a5fe",
   "metadata": {},
   "outputs": [
    {
     "name": "stdout",
     "output_type": "stream",
     "text": [
      "dict_keys(['nome', 'estado', 'area_km2', 'populacao_milhoes', 'pais', 'populacao_milhos', 'fundacao'])\n",
      "----------\n",
      "dict_values(['Santos', 'São Paulo', 1500, 12.18, 'Brasil', 15, '25/01/1554'])\n",
      "----------\n",
      "dict_items([('nome', 'Santos'), ('estado', 'São Paulo'), ('area_km2', 1500), ('populacao_milhoes', 12.18), ('pais', 'Brasil'), ('populacao_milhos', 15), ('fundacao', '25/01/1554')])\n",
      "----------\n"
     ]
    }
   ],
   "source": [
    "print(dados_cidades.keys()) #Retorna uma lista de chaves de um dicionário\n",
    "print('-'*10)\n",
    "print(dados_cidades.values()) #Retorna uma lista de valores de um dicionário\n",
    "print('-'*10)\n",
    "print(dados_cidades.items()) #Retorna uma lista que tem como elementos uma tupla com um par --> Chave - Valor\n",
    "print('-'*10)"
   ]
  }
 ],
 "metadata": {
  "kernelspec": {
   "display_name": "Python 3 (ipykernel)",
   "language": "python",
   "name": "python3"
  },
  "language_info": {
   "codemirror_mode": {
    "name": "ipython",
    "version": 3
   },
   "file_extension": ".py",
   "mimetype": "text/x-python",
   "name": "python",
   "nbconvert_exporter": "python",
   "pygments_lexer": "ipython3",
   "version": "3.10.5"
  }
 },
 "nbformat": 4,
 "nbformat_minor": 5
}
