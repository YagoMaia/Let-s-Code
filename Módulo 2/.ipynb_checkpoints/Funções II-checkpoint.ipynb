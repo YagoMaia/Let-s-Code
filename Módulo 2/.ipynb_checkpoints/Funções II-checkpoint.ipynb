{
 "cells": [
  {
   "cell_type": "code",
   "execution_count": 1,
   "id": "79ad466a",
   "metadata": {},
   "outputs": [],
   "source": [
    "def media(num1, num2, num3):\n",
    "    soma = num1 + num2 + num3\n",
    "    media = soma/3\n",
    "    return media"
   ]
  },
  {
   "cell_type": "code",
   "execution_count": 7,
   "id": "77fd0ccf",
   "metadata": {},
   "outputs": [],
   "source": [
    "def media(*args, margem):\n",
    "    soma = sum(args)\n",
    "    media = soma/len(args)\n",
    "    return media + margem"
   ]
  },
  {
   "cell_type": "code",
   "execution_count": 8,
   "id": "f8be7b02",
   "metadata": {},
   "outputs": [
    {
     "data": {
      "text/plain": [
       "9.3"
      ]
     },
     "execution_count": 8,
     "metadata": {},
     "output_type": "execute_result"
    }
   ],
   "source": [
    "media(10, 8, 9, margem=0.3)"
   ]
  },
  {
   "cell_type": "code",
   "execution_count": 15,
   "id": "26833379",
   "metadata": {},
   "outputs": [],
   "source": [
    "def print_info(**kwargs):\n",
    "    print(kwargs,type(kwargs))"
   ]
  },
  {
   "cell_type": "code",
   "execution_count": 16,
   "id": "ef57c4fa",
   "metadata": {},
   "outputs": [
    {
     "name": "stdout",
     "output_type": "stream",
     "text": [
      "{'nome': 'Yago', 'sobrenome': 'Henrique'} <class 'dict'>\n"
     ]
    }
   ],
   "source": [
    "print_info(nome='Yago', sobrenome='Henrique') #kwargs retorna em um dicionário, enquanto o args retornam em uma tuplab"
   ]
  },
  {
   "cell_type": "code",
   "execution_count": null,
   "id": "426ca28f",
   "metadata": {},
   "outputs": [],
   "source": []
  }
 ],
 "metadata": {
  "kernelspec": {
   "display_name": "Python 3 (ipykernel)",
   "language": "python",
   "name": "python3"
  },
  "language_info": {
   "codemirror_mode": {
    "name": "ipython",
    "version": 3
   },
   "file_extension": ".py",
   "mimetype": "text/x-python",
   "name": "python",
   "nbconvert_exporter": "python",
   "pygments_lexer": "ipython3",
   "version": "3.10.5"
  }
 },
 "nbformat": 4,
 "nbformat_minor": 5
}
